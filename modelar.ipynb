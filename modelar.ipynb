{
 "cells": [
  {
   "cell_type": "code",
   "execution_count": null,
   "id": "b51d49f0",
   "metadata": {},
   "outputs": [],
   "source": [
    "## Scikit learn\n",
    "Biblioteca de Python donde todos los modelos y algoritmos del aprendizaje automático se han implementado con una arquitectura orientada a objetos donde cada modelo tiene su propia clase. \n",
    "\n",
    "Para empezar a importar los algoritmos importe los módulos correspondiente, no la biblioteca en general, de lo contrario cuando llame algún método no funcionará.  \n",
    "\n",
    "`import from sklearn.linear_model import LinearRegression`\n",
    "\n",
    "Para crear un modelo, generamos un objeto de la clase correspondiente a este modelo. \n",
    "\n",
    "`modelo = LinearRegression() --- object = modelo(parámetros)`\n",
    "\n",
    "Para desarrollar cualquier modelo, se usan estos métodos, los cuales están en todas las clases. \n",
    "\n",
    "- `modelo = LinearRegresion()` Definir el modelo\n",
    "- `modelo.fit(X,y)` Ajustar \n",
    "- `modelo.score(X,y)` Evaluar \n",
    "- `modelo.predict(X)` Predecir\n",
    "___\n",
    "\n",
    "¿Cómo elegir el algoritmo a utilizar?\n",
    "\n",
    "Ésta podría ser la parte más dificil, encontrar el estimador adecuado para el trabajo. En el siguiente mapa encontrará buenos estimadores para cada aplicación.\n",
    "\n",
    "[Diagrama](https://scikit-learn.org/stable/tutorial/machine_learning_map/index.html)"
   ]
  },
  {
   "cell_type": "code",
   "execution_count": null,
   "id": "e7822533",
   "metadata": {},
   "outputs": [],
   "source": [
    "from skimage import io\n",
    "import matplotlib.pyplot as plt \n",
    "image=io.imread(\"../ProyectoModelado_ElianaBonalde/ml_map.png\")/255.0\n",
    "plt.imshow(image,vmin=0,vmax=1)"
   ]
  }
 ],
 "metadata": {
  "kernelspec": {
   "display_name": "Python 3",
   "language": "python",
   "name": "python3"
  },
  "language_info": {
   "codemirror_mode": {
    "name": "ipython",
    "version": 3
   },
   "file_extension": ".py",
   "mimetype": "text/x-python",
   "name": "python",
   "nbconvert_exporter": "python",
   "pygments_lexer": "ipython3",
   "version": "3.8.8"
  }
 },
 "nbformat": 4,
 "nbformat_minor": 5
}
