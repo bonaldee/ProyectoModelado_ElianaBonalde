{
 "cells": [
  {
   "cell_type": "markdown",
   "id": "a9225755",
   "metadata": {},
   "source": [
    "# Aprendiendo Machine Learning con Python \n",
    "\n",
    "## Scikit learn\n",
    "\n",
    "`Scikit_learn` es una librería de Python de aprendizaje automático de código abierto que admite el aprendizaje supervisado y no supervisado. Proporciona modelos y algoritmos que se han implementado con una arquitectura orientada a objetos, donde cada modelo tiene su propia clase. [scikit_learn](https://scikit-learn.org/stable/index.html)\n",
    "\n",
    "Para empezar a importar los algoritmos, importe los módulos correspondientes, no la librería en general, de lo contrario cuando llame algún método no funcionará.  \n",
    "\n",
    "`import from sklearn.linear_model import LinearRegression`\n",
    "\n",
    "Para crear un modelo, generamos un objeto de la clase correspondiente a este modelo. \n",
    "\n",
    "`modelo = LinearRegression()` ---> object = modelo(parámetros)\n",
    "\n",
    "## ¿Cómo elegir el algoritmo a utilizar?\n",
    "\n",
    "Ésta podría ser la parte más dificil, encontrar el estimador adecuado para el trabajo. En el siguiente enlace, encontraremos buenos estimadores para cada aplicación. [scikit-learn](https://scikit-learn.org/stable/tutorial/machine_learning_map/index.html)\n",
    "\n",
    "\n",
    "## Construyendo el modelo\n",
    "Para desarrollar cualquier modelo, se usan estos métodos, los cuales lo heredan todas las clases. \n",
    "\n",
    "1. Definir el modelo. `modelo = LinearRegresion()`     \n",
    "\n",
    "2. Ajustar, es decir, capturar patrones a partir de los datos proporcionados `modelo.fit(X,y)`\n",
    " \n",
    "    - La matriz de entrada `X`, está formada por las muestras que se representan como filas y las características representadas como columnas.\n",
    "    - Los valores objetivo `y` son números reales para tareas de regresión, o enteros para clasificación (o cualquier otro conjunto discreto de valores). \n",
    "\n",
    "3. Evaluar qué tan precisas son las predicciones del modelo. `modelo.score(X,y)`    \n",
    "    \n",
    "4. Predecir los valores objetivo de nuevos datos. No es necesario volver a entrenar al estimador. `modelo.predict(X)`\n",
    " \n",
    "___\n",
    "\n",
    "En principio, importemos las librerías y los DataFrames con las que vamos a trabajar.\n",
    "\n",
    "**Recordemos el ejercicio** - Predecir si es probable que un paciente sufra un accidente cerebrovascular en función de los parámetros de entrada como el sexo, la edad, diversas enfermedades y el tabaquismo. [Fuente](https://www.kaggle.com/fedesoriano/stroke-prediction-dataset?select=healthcare-dataset-stroke-data.csv)\n",
    "\n",
    "Estos DataFrames fueron tratados en el Notebook [preparacion_datos](https://github.com/bonaldee/ProyectoModelado_ElianaBonalde/blob/main/preparacion_datos.ipynb)."
   ]
  },
  {
   "cell_type": "code",
   "execution_count": 1,
   "id": "0f3dfc59",
   "metadata": {},
   "outputs": [
    {
     "data": {
      "text/html": [
       "<div>\n",
       "<style scoped>\n",
       "    .dataframe tbody tr th:only-of-type {\n",
       "        vertical-align: middle;\n",
       "    }\n",
       "\n",
       "    .dataframe tbody tr th {\n",
       "        vertical-align: top;\n",
       "    }\n",
       "\n",
       "    .dataframe thead th {\n",
       "        text-align: right;\n",
       "    }\n",
       "</style>\n",
       "<table border=\"1\" class=\"dataframe\">\n",
       "  <thead>\n",
       "    <tr style=\"text-align: right;\">\n",
       "      <th></th>\n",
       "      <th>gender</th>\n",
       "      <th>age</th>\n",
       "      <th>hypertension</th>\n",
       "      <th>heart_disease</th>\n",
       "      <th>Residence_type</th>\n",
       "      <th>avg_glucose_level</th>\n",
       "      <th>bmi</th>\n",
       "      <th>smoking_status</th>\n",
       "      <th>stroke</th>\n",
       "    </tr>\n",
       "  </thead>\n",
       "  <tbody>\n",
       "    <tr>\n",
       "      <th>0</th>\n",
       "      <td>0</td>\n",
       "      <td>67.0</td>\n",
       "      <td>0</td>\n",
       "      <td>1</td>\n",
       "      <td>0</td>\n",
       "      <td>228.69</td>\n",
       "      <td>36.6</td>\n",
       "      <td>0</td>\n",
       "      <td>1</td>\n",
       "    </tr>\n",
       "    <tr>\n",
       "      <th>1</th>\n",
       "      <td>0</td>\n",
       "      <td>80.0</td>\n",
       "      <td>0</td>\n",
       "      <td>1</td>\n",
       "      <td>1</td>\n",
       "      <td>105.92</td>\n",
       "      <td>32.5</td>\n",
       "      <td>1</td>\n",
       "      <td>1</td>\n",
       "    </tr>\n",
       "    <tr>\n",
       "      <th>2</th>\n",
       "      <td>1</td>\n",
       "      <td>49.0</td>\n",
       "      <td>0</td>\n",
       "      <td>0</td>\n",
       "      <td>0</td>\n",
       "      <td>171.23</td>\n",
       "      <td>34.4</td>\n",
       "      <td>2</td>\n",
       "      <td>1</td>\n",
       "    </tr>\n",
       "    <tr>\n",
       "      <th>3</th>\n",
       "      <td>1</td>\n",
       "      <td>79.0</td>\n",
       "      <td>1</td>\n",
       "      <td>0</td>\n",
       "      <td>1</td>\n",
       "      <td>174.12</td>\n",
       "      <td>24.0</td>\n",
       "      <td>1</td>\n",
       "      <td>1</td>\n",
       "    </tr>\n",
       "    <tr>\n",
       "      <th>4</th>\n",
       "      <td>0</td>\n",
       "      <td>81.0</td>\n",
       "      <td>0</td>\n",
       "      <td>0</td>\n",
       "      <td>0</td>\n",
       "      <td>186.21</td>\n",
       "      <td>29.0</td>\n",
       "      <td>0</td>\n",
       "      <td>1</td>\n",
       "    </tr>\n",
       "  </tbody>\n",
       "</table>\n",
       "</div>"
      ],
      "text/plain": [
       "   gender   age  hypertension  heart_disease  Residence_type  \\\n",
       "0       0  67.0             0              1               0   \n",
       "1       0  80.0             0              1               1   \n",
       "2       1  49.0             0              0               0   \n",
       "3       1  79.0             1              0               1   \n",
       "4       0  81.0             0              0               0   \n",
       "\n",
       "   avg_glucose_level   bmi  smoking_status  stroke  \n",
       "0             228.69  36.6               0       1  \n",
       "1             105.92  32.5               1       1  \n",
       "2             171.23  34.4               2       1  \n",
       "3             174.12  24.0               1       1  \n",
       "4             186.21  29.0               0       1  "
      ]
     },
     "execution_count": 1,
     "metadata": {},
     "output_type": "execute_result"
    }
   ],
   "source": [
    "import pandas as pd\n",
    "import numpy as np\n",
    "import matplotlib.pyplot as plt\n",
    "import seaborn as sns\n",
    "\n",
    "\n",
    "X = pd.read_csv('../../ProyectoModelado_ElianaBonalde/datos/Cardio/df_entrenamiento.csv')\n",
    "y = pd.read_csv('../../ProyectoModelado_ElianaBonalde/datos/Cardio/df_entren_prediccion.csv')\n",
    "X_test = pd.read_csv('../../ProyectoModelado_ElianaBonalde/datos/Cardio/df_test.csv')\n",
    "y_test = pd.read_csv('../../ProyectoModelado_ElianaBonalde/datos/Cardio/df_test_prediccion.csv')\n",
    "df = pd.read_csv('../../ProyectoModelado_ElianaBonalde/datos/Cardio/df.csv')\n",
    "df.head()"
   ]
  },
  {
   "cell_type": "markdown",
   "id": "fe738c1f",
   "metadata": {},
   "source": [
    "Con este ejercicio, vamos a utilizar algunos de los principales algoritmos usados en Machine Learning, sin tomar en cuenta si es el más apropiado o no, el objetivo es compararlos e identificar el que mejor resultado obtiene al predecir si el paciente sufre o no un ataque cerebrovascular.\n",
    "___\n",
    "\n",
    "## Algoritmos de árbol de decisión\n",
    "\n",
    "Los árboles de desición son modelos predictivos formados por reglas binarias (si/no) con las que se consigue repartir las observaciones en función de sus atributos y predecir así el valor de la variable objetivo. \n",
    "\n",
    "Se utilizan sobre todo para clasificación de información, bifurcando y modelando los posibles caminos tomados y su probabilidad de ocurrencia para mejorar su precisión. El primer nodo se llama raíz, luego se descompone en ramas que se subdividen hasta llegar a las hojas que son los nodos finales. En particular, buscará la mejor ruta, balanceando la posibilidad de ocurrencia y su importancia en cada rama y hojas para clasificar un resultado.\n",
    "\n",
    "___\n",
    "### Árbol de clasificación - [scikit-learn](https://scikit-learn.org/stable/modules/generated/sklearn.tree.DecisionTreeClassifier.html#sklearn.tree.DecisionTreeClassifier)\n",
    "\n",
    "Subtipo de árboles de decisión que se aplica cuando la variable objetivo es categórica."
   ]
  },
  {
   "cell_type": "code",
   "execution_count": 2,
   "id": "8afc5740",
   "metadata": {},
   "outputs": [],
   "source": [
    "from sklearn import tree\n",
    "mo_DTC =  tree.DecisionTreeClassifier(splitter='best', max_depth=3, min_samples_split=2, random_state=0) #Definimos el modelo.\n",
    "mo_DTC = mo_DTC.fit(X, y) #Ajustamos el modelo"
   ]
  },
  {
   "cell_type": "markdown",
   "id": "5e05a104",
   "metadata": {},
   "source": [
    "Los parámetros utlizados en este modelo fueron:\n",
    "\n",
    "- `splitter`: La estrategia utilizada para elegir la división en cada nodo. Las estrategias admitidas son  **best** para elegir la mejor división y **random** para elegir la mejor división aleatoria. Por defecto es **best**.\n",
    "- `max_depth`: La profundidad máxima del árbol. Para obtener un comportamiento determinista durante el ajuste, debe fijarse a un número entero. \n",
    "- `min_sample_split`: Número mínimo de muestras necesarias para dividir un nodo interno. Por defecto es 2. \n",
    "- `random_state`: Controla la aleatoriedad del estimador. \n",
    "\n",
    "Una vez seleccionado y entrenado el modelo con los datos de entrenamiento, podemos predecir la variable objetivo con el conjunto de prueba. Para mayor comodidad, lo visualizamos como un DataFrame. "
   ]
  },
  {
   "cell_type": "code",
   "execution_count": 3,
   "id": "569fc078",
   "metadata": {},
   "outputs": [
    {
     "data": {
      "text/html": [
       "<div>\n",
       "<style scoped>\n",
       "    .dataframe tbody tr th:only-of-type {\n",
       "        vertical-align: middle;\n",
       "    }\n",
       "\n",
       "    .dataframe tbody tr th {\n",
       "        vertical-align: top;\n",
       "    }\n",
       "\n",
       "    .dataframe thead th {\n",
       "        text-align: right;\n",
       "    }\n",
       "</style>\n",
       "<table border=\"1\" class=\"dataframe\">\n",
       "  <thead>\n",
       "    <tr style=\"text-align: right;\">\n",
       "      <th></th>\n",
       "      <th>0</th>\n",
       "    </tr>\n",
       "  </thead>\n",
       "  <tbody>\n",
       "    <tr>\n",
       "      <th>0</th>\n",
       "      <td>0</td>\n",
       "    </tr>\n",
       "    <tr>\n",
       "      <th>1</th>\n",
       "      <td>0</td>\n",
       "    </tr>\n",
       "    <tr>\n",
       "      <th>2</th>\n",
       "      <td>0</td>\n",
       "    </tr>\n",
       "    <tr>\n",
       "      <th>3</th>\n",
       "      <td>0</td>\n",
       "    </tr>\n",
       "  </tbody>\n",
       "</table>\n",
       "</div>"
      ],
      "text/plain": [
       "   0\n",
       "0  0\n",
       "1  0\n",
       "2  0\n",
       "3  0"
      ]
     },
     "execution_count": 3,
     "metadata": {},
     "output_type": "execute_result"
    }
   ],
   "source": [
    "predic_DTC = mo_DTC.predict(X_test)\n",
    "DTC_df = pd.DataFrame(predic_DTC)\n",
    "DTC_df.head(4)"
   ]
  },
  {
   "cell_type": "code",
   "execution_count": 4,
   "id": "1a27b070",
   "metadata": {},
   "outputs": [
    {
     "data": {
      "image/png": "[encoded data removed]",
      "text/plain": [
       "<Figure size 432x288 with 1 Axes>"
      ]
     },
     "metadata": {
      "needs_background": "light"
     },
     "output_type": "display_data"
    }
   ],
   "source": [
    "decision_tree = tree.plot_tree(\n",
    "    decision_tree = mo_DTC,\n",
    "    #feature_names = labels.tolist(),\n",
    "    class_names = 'stroke',\n",
    "    filled = True,\n",
    "    impurity = False,\n",
    "    fontsize = 7) "
   ]
  },
  {
   "cell_type": "code",
   "execution_count": 5,
   "id": "3548b865",
   "metadata": {},
   "outputs": [
    {
     "name": "stdout",
     "output_type": "stream",
     "text": [
      "0.955193482688391\n"
     ]
    }
   ],
   "source": [
    "print(mo_DTC.score(X_test, y_test))"
   ]
  },
  {
   "cell_type": "markdown",
   "id": "e9e28fcc",
   "metadata": {},
   "source": [
    "### Árbol de regresión - [scikit-learn](https://scikit-learn.org/stable/modules/generated/sklearn.tree.DecisionTreeRegressor.html#sklearn.tree.DecisionTreeRegressor)\n",
    "\n",
    "Subtipo de árboles de decisión que se aplica cuando la variable objetivo es continua."
   ]
  },
  {
   "cell_type": "code",
   "execution_count": 6,
   "id": "ba2053f8",
   "metadata": {},
   "outputs": [
    {
     "data": {
      "text/plain": [
       "DecisionTreeRegressor(random_state=1)"
      ]
     },
     "execution_count": 6,
     "metadata": {},
     "output_type": "execute_result"
    }
   ],
   "source": [
    "mo_DTR = tree.DecisionTreeRegressor(random_state=1) \n",
    "mo_DTR.fit(X, y)"
   ]
  },
  {
   "cell_type": "code",
   "execution_count": 7,
   "id": "3b61e7dc",
   "metadata": {},
   "outputs": [
    {
     "data": {
      "text/html": [
       "<div>\n",
       "<style scoped>\n",
       "    .dataframe tbody tr th:only-of-type {\n",
       "        vertical-align: middle;\n",
       "    }\n",
       "\n",
       "    .dataframe tbody tr th {\n",
       "        vertical-align: top;\n",
       "    }\n",
       "\n",
       "    .dataframe thead th {\n",
       "        text-align: right;\n",
       "    }\n",
       "</style>\n",
       "<table border=\"1\" class=\"dataframe\">\n",
       "  <thead>\n",
       "    <tr style=\"text-align: right;\">\n",
       "      <th></th>\n",
       "      <th>0</th>\n",
       "    </tr>\n",
       "  </thead>\n",
       "  <tbody>\n",
       "    <tr>\n",
       "      <th>0</th>\n",
       "      <td>1.0</td>\n",
       "    </tr>\n",
       "    <tr>\n",
       "      <th>1</th>\n",
       "      <td>0.0</td>\n",
       "    </tr>\n",
       "    <tr>\n",
       "      <th>2</th>\n",
       "      <td>1.0</td>\n",
       "    </tr>\n",
       "    <tr>\n",
       "      <th>3</th>\n",
       "      <td>0.0</td>\n",
       "    </tr>\n",
       "    <tr>\n",
       "      <th>4</th>\n",
       "      <td>0.0</td>\n",
       "    </tr>\n",
       "  </tbody>\n",
       "</table>\n",
       "</div>"
      ],
      "text/plain": [
       "     0\n",
       "0  1.0\n",
       "1  0.0\n",
       "2  1.0\n",
       "3  0.0\n",
       "4  0.0"
      ]
     },
     "execution_count": 7,
     "metadata": {},
     "output_type": "execute_result"
    }
   ],
   "source": [
    "predic_DTR = mo_DTR.predict(X_test)\n",
    "DTR_df = pd.DataFrame(predic_DTR)\n",
    "DTR_df.head()\n",
    "#union = pd.concat([y_test, DTR_df], axis = 1)\n",
    "#union"
   ]
  },
  {
   "cell_type": "code",
   "execution_count": 8,
   "id": "b1bef1fa",
   "metadata": {},
   "outputs": [
    {
     "name": "stdout",
     "output_type": "stream",
     "text": [
      "-1.331750339213027\n"
     ]
    }
   ],
   "source": [
    "print(mo_DTR.score(X_test, y_test))"
   ]
  },
  {
   "cell_type": "markdown",
   "id": "a9f89f9d",
   "metadata": {},
   "source": [
    "Para tener una idea del rendimiento futuro de nuestro modelo, debemos probarlo en los datos del conjunto de prueba, es decir, datos que el modelo nunca ha visto.\n",
    "\n",
    "Este modelo es capaz de predecir correctamente un 98% aproximadamente de las observaciones del conjusto de prueba. Para afirmar que es un buen modelo, la puntuación debería estar entre 91 y 99%, aproximadamente.\n",
    "\n",
    "Los árboles de decisión pueden ser inestables porque pequeñas variaciones en los datos pueden resultar en la generación de un árbol completamente diferente. Además, te dejan con una decisión difícil, un árbol profundo con muchas hojas tiene mucha varianza, pero se ajustan mucho a los datos de entrenamiento, y es aquí donde vemos el sobreajuste porque cada predicción proviene de datos históricos de solo algunos datos en su hoja. Ahora bien, un árbol poco profundo con pocas hojas, tiene poca varianza, pero no consiguen representar la relaciones entre las variables, por lo tanto, tendrá un desempeño deficiente porque no logra capturar tantas distinciones en los datos brutos.\n",
    "\n",
    "Este método sufre el problema de equilibrio entre sesgo y varianza, esto se soluciona con los métodos de ensamble, los cuales buscan equilibrar. \n",
    "___\n",
    "### Random Forest \n",
    "\n",
    "Un modelo Random Forest es un tipo de ensamble en Machine Learning combinando un conjunto de árboles de decisión individuales, donde la predicción de una nueva observación se obtiene agregando las predicciones de todos los árboles individuales que forman el modelo.\n",
    "\n",
    "Al igual que los los árboles de decisión, los bosques tienen dos subtipos: [clasificación](https://scikit-learn.org/stable/modules/generated/sklearn.ensemble.RandomForestClassifier.html#sklearn.ensemble.RandomForestClassifier) y [regresión](https://scikit-learn.org/stable/modules/generated/sklearn.ensemble.RandomForestRegressor.html#sklearn.ensemble.RandomForestRegressor).  "
   ]
  },
  {
   "cell_type": "code",
   "execution_count": 9,
   "id": "3ec6ecdc",
   "metadata": {},
   "outputs": [
    {
     "data": {
      "text/plain": [
       "RandomForestClassifier(max_depth=2, n_estimators=50, random_state=0)"
      ]
     },
     "execution_count": 9,
     "metadata": {},
     "output_type": "execute_result"
    }
   ],
   "source": [
    "from sklearn.ensemble import RandomForestClassifier #ramdom forest\n",
    "mo_RF = RandomForestClassifier(n_estimators=50, max_depth=2, random_state=0)\n",
    "mo_RF.fit(X, y.values.ravel())"
   ]
  },
  {
   "cell_type": "markdown",
   "id": "d14eb806",
   "metadata": {},
   "source": [
    "Además de los parámetros utilizados en arboles de decisión, usamos `n_estimators`, el cual configura el número de árboles en el bosque. Cuanto más grande, mejor, pero también más tiempo se tardará en calcular. El Valor por defecto es 100."
   ]
  },
  {
   "cell_type": "code",
   "execution_count": 10,
   "id": "3c8abfc3",
   "metadata": {},
   "outputs": [
    {
     "data": {
      "text/html": [
       "<div>\n",
       "<style scoped>\n",
       "    .dataframe tbody tr th:only-of-type {\n",
       "        vertical-align: middle;\n",
       "    }\n",
       "\n",
       "    .dataframe tbody tr th {\n",
       "        vertical-align: top;\n",
       "    }\n",
       "\n",
       "    .dataframe thead th {\n",
       "        text-align: right;\n",
       "    }\n",
       "</style>\n",
       "<table border=\"1\" class=\"dataframe\">\n",
       "  <thead>\n",
       "    <tr style=\"text-align: right;\">\n",
       "      <th></th>\n",
       "      <th>0</th>\n",
       "    </tr>\n",
       "  </thead>\n",
       "  <tbody>\n",
       "    <tr>\n",
       "      <th>0</th>\n",
       "      <td>0</td>\n",
       "    </tr>\n",
       "    <tr>\n",
       "      <th>1</th>\n",
       "      <td>0</td>\n",
       "    </tr>\n",
       "    <tr>\n",
       "      <th>2</th>\n",
       "      <td>0</td>\n",
       "    </tr>\n",
       "    <tr>\n",
       "      <th>3</th>\n",
       "      <td>0</td>\n",
       "    </tr>\n",
       "    <tr>\n",
       "      <th>4</th>\n",
       "      <td>0</td>\n",
       "    </tr>\n",
       "  </tbody>\n",
       "</table>\n",
       "</div>"
      ],
      "text/plain": [
       "   0\n",
       "0  0\n",
       "1  0\n",
       "2  0\n",
       "3  0\n",
       "4  0"
      ]
     },
     "execution_count": 10,
     "metadata": {},
     "output_type": "execute_result"
    }
   ],
   "source": [
    "predic_RF = mo_RF.predict(X_test)\n",
    "RF_df= pd.DataFrame(predic_RF)\n",
    "RF_df.head()"
   ]
  },
  {
   "cell_type": "code",
   "execution_count": 11,
   "id": "a1624dfe",
   "metadata": {},
   "outputs": [
    {
     "name": "stdout",
     "output_type": "stream",
     "text": [
      "0.955193482688391\n"
     ]
    }
   ],
   "source": [
    "print(mo_RF.score(X_test, y_test))"
   ]
  },
  {
   "cell_type": "markdown",
   "id": "8ce4be63",
   "metadata": {},
   "source": [
    "## Algoritmos basados en Instancia\n",
    "\n",
    "### Nearest Neighbors \n",
    "\n",
    "La idea general de los métodos de Nearest Neighbors es encontrar un número predefinido de muestras de entrenamiento más cercanas a la que se está tratando de predecir y clasifica el punto de interés basado en la mayoría de datos que le rodean.\n",
    "\n",
    "El aprendizaje basado en vecinos supervisados se clasifica en: \n",
    "- Clasificación, se usa para datos con etiquetas discretas.\n",
    "\n",
    "    - KNeighborsClassifier, el número de muestras puede ser una constante definida por el usuario - [scikit-learn](https://scikit-learn.org/stable/modules/generated/sklearn.neighbors.KNeighborsClassifier.html#sklearn.neighbors.KNeighborsClassifier).\n",
    "    - RadiusNeighborsClassifier, el número de muestra varia según la densidad local de puntos - [scikit-learn](https://scikit-learn.org/stable/modules/generated/sklearn.neighbors.RadiusNeighborsClassifier.html#sklearn.neighbors.RadiusNeighborsClassifier).\n",
    " \n",
    "- Regresión, usado para datos con etiquetas continuas.\n",
    "\n",
    "    - KNeighborsRegressor - [scikit-learn](https://scikit-learn.org/stable/modules/generated/sklearn.neighbors.KNeighborsRegressor.html#sklearn.neighbors.KNeighborsRegressor)\n",
    "    \n",
    "    - RadiusNeighborsRegressor - [scikit-learn](https://scikit-learn.org/stable/modules/generated/sklearn.neighbors.RadiusNeighborsRegressor.html#sklearn.neighbors.RadiusNeighborsRegressor)\n",
    "\n",
    " \n",
    "KNeighbors es la técnica más utilizada. La elección óptima del valor depende en gran medida de los datos, en general, un valor mayor suprime los efectos del ruido, pero hace que los límites de clasificación sean menos distintos. En los casos en los que los datos no se muestrean de manera uniforme, RadiusNeighbors puede ser una mejor opción.\n",
    "\n",
    "En resumen:\n",
    "\n",
    "- Calcula la distancia entre el item a clasificar y el resto.\n",
    "- Seleccionar los k elementos más cercanos.\n",
    "- Los de una clase que dominen será su clasificación final."
   ]
  },
  {
   "cell_type": "code",
   "execution_count": 12,
   "id": "1496a50f",
   "metadata": {},
   "outputs": [
    {
     "data": {
      "text/plain": [
       "KNeighborsClassifier()"
      ]
     },
     "execution_count": 12,
     "metadata": {},
     "output_type": "execute_result"
    }
   ],
   "source": [
    "from sklearn.neighbors import KNeighborsClassifier\n",
    "#from sklearn.neighbors import KNeighborsRegressor\n",
    "mo_KN = KNeighborsClassifier(n_neighbors=5) \n",
    "#mo_KN = KNeighborsRegressor(n_neighbors=5)\n",
    "mo_KN.fit(X, y.values.ravel())"
   ]
  },
  {
   "cell_type": "markdown",
   "id": "89f05f2b",
   "metadata": {},
   "source": [
    "El parámetro utlizado en este modelo fue: `n_neighbors`, el cual configura el número de vecinos que se utilizarán para las consultas."
   ]
  },
  {
   "cell_type": "code",
   "execution_count": 13,
   "id": "d34dc881",
   "metadata": {},
   "outputs": [
    {
     "data": {
      "text/html": [
       "<div>\n",
       "<style scoped>\n",
       "    .dataframe tbody tr th:only-of-type {\n",
       "        vertical-align: middle;\n",
       "    }\n",
       "\n",
       "    .dataframe tbody tr th {\n",
       "        vertical-align: top;\n",
       "    }\n",
       "\n",
       "    .dataframe thead th {\n",
       "        text-align: right;\n",
       "    }\n",
       "</style>\n",
       "<table border=\"1\" class=\"dataframe\">\n",
       "  <thead>\n",
       "    <tr style=\"text-align: right;\">\n",
       "      <th></th>\n",
       "      <th>0</th>\n",
       "    </tr>\n",
       "  </thead>\n",
       "  <tbody>\n",
       "    <tr>\n",
       "      <th>0</th>\n",
       "      <td>0</td>\n",
       "    </tr>\n",
       "    <tr>\n",
       "      <th>1</th>\n",
       "      <td>0</td>\n",
       "    </tr>\n",
       "    <tr>\n",
       "      <th>2</th>\n",
       "      <td>0</td>\n",
       "    </tr>\n",
       "    <tr>\n",
       "      <th>3</th>\n",
       "      <td>0</td>\n",
       "    </tr>\n",
       "    <tr>\n",
       "      <th>4</th>\n",
       "      <td>0</td>\n",
       "    </tr>\n",
       "  </tbody>\n",
       "</table>\n",
       "</div>"
      ],
      "text/plain": [
       "   0\n",
       "0  0\n",
       "1  0\n",
       "2  0\n",
       "3  0\n",
       "4  0"
      ]
     },
     "execution_count": 13,
     "metadata": {},
     "output_type": "execute_result"
    }
   ],
   "source": [
    "predic_KN = mo_KN.predict(X_test)\n",
    "KN_df= pd.DataFrame(predic_KN)\n",
    "KN_df.head()"
   ]
  },
  {
   "cell_type": "code",
   "execution_count": 14,
   "id": "20b7d59f",
   "metadata": {},
   "outputs": [
    {
     "name": "stdout",
     "output_type": "stream",
     "text": [
      "0.9501018329938901\n"
     ]
    }
   ],
   "source": [
    "print(mo_KN.score(X_test, y_test))"
   ]
  },
  {
   "cell_type": "markdown",
   "id": "87c75625",
   "metadata": {},
   "source": [
    "## Regresión lineal \n",
    "\n",
    "Estadísticamente, regresión lineal es una aproximación para modelar la relación entre una variable dependiente `y` y una o mas variables `X`.\n",
    "\n",
    "La regresión lineal es un algoritmo de aprendizaje supervisado, la idea es obtener automáticamente una “recta” que se busca con la tendencia de predicción de un conjunto de datos continuos. Para hacerlo se mide el error con respecto a los puntos de entrada y el valor de salida real. El algoritmo deberá minimizar el coste de una función de error cuadrático y esos coeficientes corresponderán con la recta óptima.\n",
    "___\n",
    "\n",
    "**Ejercicio** - Predecir el precio de las casas de la ciudad de Windsor (Canadá).\n",
    "[Fuente](https://vincentarelbundock.github.io/Rdatasets/articles/data.html)\n",
    "\n",
    "Utilizaremos la librería Scikit Learn para este modelo. [scikit-learn](https://scikit-learn.org/stable/modules/generated/sklearn.linear_model.LinearRegression.html#sklearn.linear_model.LinearRegression)\n"
   ]
  },
  {
   "cell_type": "code",
   "execution_count": null,
   "id": "254b0783",
   "metadata": {},
   "outputs": [],
   "source": [
    "df_li = pd.read_csv('../../ProyectoModelado_ElianaBonalde/datos/HousePrices/datos.csv')\n",
    "df_li.head()"
   ]
  },
  {
   "cell_type": "markdown",
   "id": "7bad8cad",
   "metadata": {},
   "source": [
    "La tabla anterior tiene información sobre las variables variables:\n",
    "\n",
    "**Variables predictoras**\n",
    "\n",
    "- lotsize - tamaño del lote\n",
    "- bedrroms - número de cuartos\n",
    "- bathrooms - número de baños\n",
    "- stories - Número de pisos, incluyendo el sótano\n",
    "- driveway - Si tiene pasador o no\n",
    "- recreation - Si tiene cuarto de recrecaión o no\n",
    "- fullbase - Si tiene sótano o no\n",
    "- gasheat - Si tiene calentador a gas o no\n",
    "- aircon - Si tiene aire acondicionado o no\n",
    "- garage - Si tiene garage o no\n",
    "\n",
    "**Variable objetivo**\n",
    "- price - Precio \n"
   ]
  },
  {
   "cell_type": "code",
   "execution_count": null,
   "id": "4f84936d",
   "metadata": {},
   "outputs": [],
   "source": [
    "#driveway\n",
    "val_driveway={\"driveway\": {'no':0, 'yes':1}}\n",
    "df_li.replace(val_driveway, inplace=True)\n",
    "#recreation\n",
    "val_recreation={\"recreation\": {'no':0, 'yes':1}}\n",
    "df_li.replace(val_recreation, inplace=True)\n",
    "#fullbase\n",
    "val_fullbase={\"fullbase\": {'no':0, 'yes':1}}\n",
    "df_li.replace(val_fullbase, inplace=True)\n",
    "#gasheat\n",
    "val_gasheat={\"gasheat\": {'no':0, 'yes':1}}\n",
    "df_li.replace(val_gasheat, inplace=True)\n",
    "#aircon\n",
    "val_aircon={\"aircon\": {'no':0, 'yes':1}}\n",
    "df_li.replace(val_aircon, inplace=True)\n",
    "df_li.head()"
   ]
  },
  {
   "cell_type": "code",
   "execution_count": null,
   "id": "270dfbc8",
   "metadata": {},
   "outputs": [],
   "source": [
    "df_li.info() #tipo de variable\n",
    "df_li.isna().sum() #verificar si hay datos nulos"
   ]
  },
  {
   "cell_type": "code",
   "execution_count": null,
   "id": "9d069b9c",
   "metadata": {},
   "outputs": [],
   "source": [
    "df_li.hist(bins=50,figsize=(20,15))\n",
    "plt.show()"
   ]
  },
  {
   "cell_type": "code",
   "execution_count": null,
   "id": "c5e41d62",
   "metadata": {},
   "outputs": [],
   "source": [
    "X_train = df_li.iloc[:,2:11]\n",
    "y_train = df_li.iloc [:,1]\n",
    "X_train"
   ]
  },
  {
   "cell_type": "markdown",
   "id": "8c7b8c84",
   "metadata": {},
   "source": [
    "Estudiemos el grado de correlación entre las características y la variable objetivo por medio de una matriz de correlación. \n",
    "\n",
    "Cada celda de la matriz es un coeficiente de correlación (coeficiente de Pearson) entre la variable objetivo y una característica en específico. \n",
    "\n",
    "Utilizamos la función corr() de pandas para calcular la matriz.\n",
    "\n",
    "Para graficar la matriz, usaremos la biblioteca seaborn."
   ]
  },
  {
   "cell_type": "code",
   "execution_count": null,
   "id": "852a7541",
   "metadata": {},
   "outputs": [],
   "source": [
    "corrmat = df_li.corr() \n",
    "top_corr_features = corrmat.index \n",
    "plt.figure(figsize = (8,8)) \n",
    "sns.heatmap(df_li[top_corr_features].corr( ), annot=True)\n",
    "\n",
    "plt.title(\"Matriz de correlación\")\n",
    "plt.xlabel(\"Variables\")\n",
    "plt.ylabel(\"Variables\")\n",
    "plt.show()"
   ]
  },
  {
   "cell_type": "markdown",
   "id": "419b3735",
   "metadata": {},
   "source": [
    "- El valor de los elementos de la diagonal principal son 1, ya que éstos representan la correlación de cada variable consigo misma.\n",
    "- Un valor positivo cercano a 1, indica una fuerte correlación positiva, es decir, si el valor de una de las variables aumenta, el valor de la otra variable aumenta también.\n",
    "- Un valor negativo cercano a -1 indica una fuerte correlación negativa, es decir, que el valor de una de las variables disminuye al aumentar el de la otra y viceversa.\n",
    "- Un valor cercano a 0 (tanto positivo como negativo) indica la ausencia de cualquier correlación entre las dos variables, y por lo tanto esas variables son independientes entre sí.\n",
    "\n",
    "\n",
    "Esta matriz nos muestra que las características que están más relacionadas con la variable objetivo son: 'lotsize', 'bathrooms', 'stories' y 'aircon'. Nos quedaremos con éstas para entrenar nuestro modelo. "
   ]
  },
  {
   "cell_type": "code",
   "execution_count": null,
   "id": "634630b9",
   "metadata": {},
   "outputs": [],
   "source": [
    "X_train = X_train.iloc[:,[0,1,2,3,8]]\n",
    "X_train.head()"
   ]
  },
  {
   "cell_type": "code",
   "execution_count": null,
   "id": "1dee76a2",
   "metadata": {},
   "outputs": [],
   "source": [
    "plt.scatter(x=X_train['lotsize'], y=y_train)\n",
    "plt.show()\n",
    "plt.scatter(x=X_train['bedrooms'], y=y_train)\n",
    "plt.show()\n",
    "plt.scatter(x=X_train['bathrooms'], y=y_train)\n",
    "plt.show()\n",
    "plt.scatter(x=X_train['stories'], y=y_train)\n",
    "plt.show()\n",
    "plt.scatter(x=X_train['aircon'], y=y_train)\n",
    "plt.show()\n"
   ]
  },
  {
   "cell_type": "markdown",
   "id": "b56534d7",
   "metadata": {},
   "source": [
    "La función `train_test_split` [scikit-learn](https://scikit-learn.org/stable/modules/generated/sklearn.model_selection.train_test_split.html#sklearn.model_selection.train_test_split) nos divide los datos de forma aleatoria. "
   ]
  },
  {
   "cell_type": "code",
   "execution_count": null,
   "id": "59fce722",
   "metadata": {},
   "outputs": [],
   "source": [
    "from sklearn.model_selection import train_test_split\n",
    "X_train, X_test, y_train, y_test = train_test_split(X_train, y_train, test_size=0.2, random_state=5)\n",
    "print(X_train.shape, X_test.shape)"
   ]
  },
  {
   "cell_type": "markdown",
   "id": "e1f376e0",
   "metadata": {},
   "source": [
    "Ahora que ya tenemos nuestros datos preparados y divididos, definimos el modelo."
   ]
  },
  {
   "cell_type": "code",
   "execution_count": null,
   "id": "f2f4734f",
   "metadata": {},
   "outputs": [],
   "source": [
    "from sklearn.linear_model import LinearRegression \n",
    "mo_Li = LinearRegression() #no utiliza parámeros porque implementa el método de mínimos cuadrados\n",
    "mo_Li.fit(X_train, y_train)"
   ]
  },
  {
   "cell_type": "code",
   "execution_count": null,
   "id": "847c8aab",
   "metadata": {},
   "outputs": [],
   "source": [
    "predic_Li = mo_Li.predict(X_test)\n",
    "Li_df = pd.DataFrame(predic_Li)\n",
    "#union = pd.concat([y_test, Li_df], axis = 1)\n",
    "#union\n",
    "Li_df.head()"
   ]
  },
  {
   "cell_type": "code",
   "execution_count": null,
   "id": "555753b8",
   "metadata": {},
   "outputs": [],
   "source": [
    "print(mo_Li.score(X_test, y_test))"
   ]
  },
  {
   "cell_type": "code",
   "execution_count": null,
   "id": "98b5c123",
   "metadata": {},
   "outputs": [],
   "source": [
    "plt.scatter(y_test, predic_Li, edgecolors=(0, 0, 0), alpha = 0.4)\n",
    "plt.plot([y_test.min(), y_test.max()], [y_test.min(), y_test.max()],\n",
    "                'k--', color = 'black', lw=2)\n",
    "plt.title('Valor predicho vs valor real', fontsize = 10, fontweight = \"bold\")\n",
    "plt.xlabel('Real')\n",
    "plt.ylabel('Predicción')\n",
    "plt.tick_params(labelsize = 7)"
   ]
  },
  {
   "cell_type": "code",
   "execution_count": null,
   "id": "de23c3a3",
   "metadata": {},
   "outputs": [],
   "source": [
    "X_train.to_csv('../../ProyectoModelado_ElianaBonalde/datos/HousePrices/X_train.csv')\n",
    "y_train.to_csv('../../ProyectoModelado_ElianaBonalde/datos/HousePrices/y_train.csv') \n",
    "X_test.to_csv('../../ProyectoModelado_ElianaBonalde/datos/HousePrices/X_test.csv')\n",
    "y_test.to_csv('../../ProyectoModelado_ElianaBonalde/datos/HousePrices/y_test.csv') "
   ]
  }
 ],
 "metadata": {
  "kernelspec": {
   "display_name": "Python 3",
   "language": "python",
   "name": "python3"
  },
  "language_info": {
   "codemirror_mode": {
    "name": "ipython",
    "version": 3
   },
   "file_extension": ".py",
   "mimetype": "text/x-python",
   "name": "python",
   "nbconvert_exporter": "python",
   "pygments_lexer": "ipython3",
   "version": "3.8.8"
  }
 },
 "nbformat": 4,
 "nbformat_minor": 5
}
