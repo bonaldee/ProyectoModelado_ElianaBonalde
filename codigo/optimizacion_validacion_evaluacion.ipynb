{
 "cells": [
  {
   "cell_type": "markdown",
   "id": "5a0e0c31",
   "metadata": {},
   "source": [
    "# Aprendiendo Machine Learning con Python \n",
    "\n",
    "Luego de desarrollar modelos de aprendizajes supervisados, veremos como optimizarlo y evaluarlo con la metodología adecuada. \n",
    "\n",
    "___\n",
    "En principio, importemos las librerías y conjunto de datos con el que vamos a trabajar.\n",
    "\n",
    "**Ejercicio** - Este conjunto de datos consta de 3 tipos diferentes de lirios (Setosa, Versicolour y Virginica) de longitud de pétalos y sépalos. Las columnas son: longitud del sépalo, ancho del sépalo, longitud del pétalo y ancho del pétalo. [scikit-learn](https://scikit-learn.org/stable/auto_examples/datasets/plot_iris_dataset.html?highlight=data%20iris)."
   ]
  },
  {
   "cell_type": "code",
   "execution_count": 1,
   "id": "9e9e5722",
   "metadata": {},
   "outputs": [],
   "source": [
    "import numpy as np\n",
    "import matplotlib.pyplot as plt\n",
    "import seaborn as sb\n",
    "import pandas as pd\n",
    "from sklearn.neighbors import KNeighborsClassifier\n",
    "from sklearn.model_selection import train_test_split\n",
    "\n",
    "#datos\n",
    "from sklearn.datasets import load_iris"
   ]
  },
  {
   "cell_type": "code",
   "execution_count": 2,
   "id": "ff73479c",
   "metadata": {},
   "outputs": [],
   "source": [
    "iris = load_iris()\n",
    "\n",
    "X = iris.data \n",
    "y = iris.target\n",
    "\n",
    "#print(X, y)"
   ]
  },
  {
   "cell_type": "code",
   "execution_count": 3,
   "id": "1edfc80b",
   "metadata": {},
   "outputs": [
    {
     "name": "stdout",
     "output_type": "stream",
     "text": [
      "['sepal length (cm)', 'sepal width (cm)', 'petal length (cm)', 'petal width (cm)'] ['setosa' 'versicolor' 'virginica']\n"
     ]
    }
   ],
   "source": [
    "print(iris.feature_names, iris.target_names)"
   ]
  },
  {
   "cell_type": "code",
   "execution_count": 4,
   "id": "7f7d7d1f",
   "metadata": {},
   "outputs": [],
   "source": [
    "df = pd.DataFrame(data= np.c_[iris['data'], iris['target']],\n",
    "                  columns= iris['feature_names'] + ['Species'])\n",
    "#df"
   ]
  },
  {
   "cell_type": "markdown",
   "id": "882a5e1a",
   "metadata": {},
   "source": [
    "Dividimos el conjunto en datos de entrenamiento y datos de pruebas."
   ]
  },
  {
   "cell_type": "code",
   "execution_count": 5,
   "id": "79a8a49d",
   "metadata": {},
   "outputs": [
    {
     "name": "stdout",
     "output_type": "stream",
     "text": [
      "(120, 4) (30, 4)\n"
     ]
    }
   ],
   "source": [
    "X_train, X_test, y_train, y_test = train_test_split(X, y, test_size=0.2, random_state=5)\n",
    "print(X_train.shape, X_test.shape)"
   ]
  },
  {
   "cell_type": "markdown",
   "id": "022d46ab",
   "metadata": {},
   "source": [
    "Trabajaremos con el modelo de KNeighbors."
   ]
  },
  {
   "cell_type": "code",
   "execution_count": 6,
   "id": "4da3c805",
   "metadata": {},
   "outputs": [
    {
     "name": "stdout",
     "output_type": "stream",
     "text": [
      "0.9\n"
     ]
    }
   ],
   "source": [
    "mo_KN = KNeighborsClassifier(n_neighbors=1) \n",
    "mo_KN.fit(X_train, y_train)\n",
    "print(mo_KN.score(X_test, y_test))"
   ]
  },
  {
   "cell_type": "markdown",
   "id": "7711c399",
   "metadata": {},
   "source": [
    "### Cross-validation\n",
    "\n",
    "La validación cruzada [scikit-learn](https://scikit-learn.org/stable/modules/cross_validation.html#cross-validation) consiste en entrenar y luego validar nuestro modelo en varios cortes del conjunto de entrenamiento, el cual se divide en k conjuntos más pequeños y se les aplica el siguiente procedimiento:\n",
    "\n",
    "- Un modelo se entrena usando k-1 cortes como datos de entrenamiento.\n",
    "- El otro corte se utiliza como un conjunto de pruebas para calcular una medida de rendimiento como la precisión.\n",
    "\n",
    "Este enfoque puede ser computacionalmente costoso, pero no desperdicia demasiados datos, siendo una gran ventaja para muestras muy pequeñas. \n",
    "\n",
    "___\n",
    "Utilizaremos la funcion `cross_val_score` con los siguientes parámetros: `modelo`, `X`, `y` y `cv` que nos configura el número de divisiones. "
   ]
  },
  {
   "cell_type": "code",
   "execution_count": 7,
   "id": "16b12578",
   "metadata": {},
   "outputs": [],
   "source": [
    "from sklearn.model_selection import cross_val_score"
   ]
  },
  {
   "cell_type": "code",
   "execution_count": 8,
   "id": "57cbc677",
   "metadata": {},
   "outputs": [
    {
     "name": "stdout",
     "output_type": "stream",
     "text": [
      "[0.95833333 1.         0.95833333 0.95833333 0.95833333] 0.9666666666666668\n"
     ]
    }
   ],
   "source": [
    "cross = cross_val_score(KNeighborsClassifier(2), X_train, y_train, cv=5)\n",
    "print(cross, cross.mean())"
   ]
  },
  {
   "cell_type": "markdown",
   "id": "d6542184",
   "metadata": {},
   "source": [
    "### Mejor valor para el parámetro\n",
    "#### Validation Curve\n",
    "Podemos observar el valor de n_neighbors para el cual el modelo tiene el mejor rendimiento, para ello utilizamos la función `validation_curve` de [scikit-learn](https://scikit-learn.org/stable/modules/generated/sklearn.model_selection.validation_curve.html?highlight=validation_curve#sklearn.model_selection.validation_curve).\n",
    "\n",
    "Utilizamos los siguientes parámetros: `modelo`, `X`, `y`, `param_name` y `param_range` que representan el nombre del parámetro que se modificará y valores del parámetro que se evaluará, respectivamente; y `cv`."
   ]
  },
  {
   "cell_type": "code",
   "execution_count": 9,
   "id": "57b4749d",
   "metadata": {},
   "outputs": [
    {
     "data": {
      "text/plain": [
       "<matplotlib.legend.Legend at 0x7fdeec3a04f0>"
      ]
     },
     "execution_count": 9,
     "metadata": {},
     "output_type": "execute_result"
    },
    {
     "data": {
      "image/png": "[encoded data removed]",
      "text/plain": [
       "<Figure size 432x288 with 1 Axes>"
      ]
     },
     "metadata": {
      "needs_background": "light"
     },
     "output_type": "display_data"
    }
   ],
   "source": [
    "from sklearn.model_selection import validation_curve\n",
    "k = np.arange(1, 50)\n",
    "train_score, val_score = validation_curve(KNeighborsClassifier(k), X_train, y_train, param_name='n_neighbors', param_range=k, cv=5)\n",
    "\n",
    "plt.plot(k, val_score.mean(axis=1), label='valoración')\n",
    "plt.ylabel('Puntuación')\n",
    "plt.xlabel('n_neighbors')\n",
    "plt.legend()"
   ]
  },
  {
   "cell_type": "markdown",
   "id": "950dda64",
   "metadata": {},
   "source": [
    "### Combinando parámetros\n",
    "#### GridSearchCV\n",
    "\n",
    "Los distintos modelos de Machine Learning tienen uno o varios parámetros. Si queremos probar las mejores combinaciones en los parámetros para conseguir un mejor rendimiento utilizamos la función `GridSearchCV` [scikit-learn](https://scikit-learn.org/stable/modules/generated/sklearn.model_selection.GridSearchCV.html?highlight=gridsearchcv#sklearn.model_selection.GridSearchCV), la cual hace una búsqueda exhaustiva de valores de parámetros especificados para un estimador."
   ]
  },
  {
   "cell_type": "code",
   "execution_count": 10,
   "id": "68990c6f",
   "metadata": {},
   "outputs": [
    {
     "name": "stdout",
     "output_type": "stream",
     "text": [
      "{'metric': 'euclidean', 'n_neighbors': 5} 0.9833333333333334\n"
     ]
    }
   ],
   "source": [
    "from sklearn.model_selection import GridSearchCV \n",
    "param_grid = {'n_neighbors': np.arange(1, 50), 'metric': ['euclidean', 'manhattan']}\n",
    "grid = GridSearchCV(KNeighborsClassifier(), param_grid, cv=5)\n",
    "grid.fit(X_train, y_train)\n",
    "print( grid.best_params_, grid.best_score_)"
   ]
  },
  {
   "cell_type": "markdown",
   "id": "a27b2a2e",
   "metadata": {},
   "source": [
    "### Número de datos\n",
    "#### Learning Curve\n",
    "\n",
    "Con las curvas de aprendizaje, podría saber si nuestro modelo tiene un mejor rendimiento si le proporcionamos más datos. Éstas muestran la evolución del desempeño en función de la cantidad de datos que se le proporciones. Normalmente, mientras más datos, mejor es su rendimiento. \n",
    "\n",
    "Utilizaremos la función `learning_curve` de [scikit_learn](https://scikit-learn.org/stable/modules/generated/sklearn.model_selection.learning_curve.html?highlight=learning%20curve#sklearn.model_selection.learning_curve), usando los siguinetes parámetros: `modelo`, `X`, `y`, `cv` y `train_sizes` que representa números relativos o absolutos de ejemplos de formación que se utilizarán para generar la curva de aprendizaje."
   ]
  },
  {
   "cell_type": "code",
   "execution_count": 11,
   "id": "1f73c1de",
   "metadata": {},
   "outputs": [
    {
     "name": "stdout",
     "output_type": "stream",
     "text": [
      "[ 9 19 28 38 48 57 67 76 86 96]\n"
     ]
    }
   ],
   "source": [
    "from sklearn.model_selection import learning_curve\n",
    "N, train_score, val_score = learning_curve(KNeighborsClassifier(), X_train, y_train, train_sizes=np.linspace(0.1, 1, 10), cv=5 )\n",
    "print(N)"
   ]
  },
  {
   "cell_type": "code",
   "execution_count": 12,
   "id": "af40c97d",
   "metadata": {},
   "outputs": [
    {
     "data": {
      "text/plain": [
       "<matplotlib.legend.Legend at 0x7fdebe6f5bb0>"
      ]
     },
     "execution_count": 12,
     "metadata": {},
     "output_type": "execute_result"
    },
    {
     "data": {
      "image/png": "[encoded data removed]",
      "text/plain": [
       "<Figure size 432x288 with 1 Axes>"
      ]
     },
     "metadata": {
      "needs_background": "light"
     },
     "output_type": "display_data"
    }
   ],
   "source": [
    "plt.plot(N, val_score.mean(axis=1), label='valoración')\n",
    "plt.ylabel('Puntuación')\n",
    "plt.xlabel('Tamaño de prueba')\n",
    "plt.legend()"
   ]
  }
 ],
 "metadata": {
  "kernelspec": {
   "display_name": "Python 3",
   "language": "python",
   "name": "python3"
  },
  "language_info": {
   "codemirror_mode": {
    "name": "ipython",
    "version": 3
   },
   "file_extension": ".py",
   "mimetype": "text/x-python",
   "name": "python",
   "nbconvert_exporter": "python",
   "pygments_lexer": "ipython3",
   "version": "3.8.8"
  }
 },
 "nbformat": 4,
 "nbformat_minor": 5
}
