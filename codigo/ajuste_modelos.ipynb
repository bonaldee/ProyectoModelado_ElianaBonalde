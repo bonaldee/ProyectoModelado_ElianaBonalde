{
 "cells": [
  {
   "cell_type": "markdown",
   "id": "a9225755",
   "metadata": {},
   "source": [
    "# Aprendiendo Machine Learning con Python \n",
    "\n",
    "## Scikit learn\n",
    "\n",
    "`Scikit_learn` es una librería de Python de aprendizaje automático de código abierto que admite el aprendizaje supervisado y no supervisado. Proporciona modelos y algoritmos que se han implementado con una arquitectura orientada a objetos, donde cada modelo tiene su propia clase. [Documentación](https://scikit-learn.org/stable/index.html)\n",
    "\n",
    "Para empezar a importar los algoritmos, importe los módulos correspondientes, no la librería en general, de lo contrario cuando llame algún método no funcionará.  \n",
    "\n",
    "`import from sklearn.linear_model import LinearRegression`\n",
    "\n",
    "Para crear un modelo, generamos un objeto de la clase correspondiente a este modelo. \n",
    "\n",
    "`modelo = LinearRegression()` ---> object = modelo(parámetros)\n",
    "\n",
    "## ¿Cómo elegir el algoritmo a utilizar?\n",
    "\n",
    "Ésta podría ser la parte más dificil, encontrar el estimador adecuado para el trabajo. En el siguiente mapa, encontraremos buenos estimadores para cada aplicación.\n",
    "![Mapa](https://github.com/bonaldee/ProyectoModelado_ElianaBonalde/blob/main/codigo/ml_map.png)\n",
    "[Fuente](https://scikit-learn.org/stable/tutorial/machine_learning_map/index.html)\n",
    "\n",
    "\n",
    "## Construyendo el modelo\n",
    "Para desarrollar cualquier modelo, se usan estos métodos, los cuales lo heredan todas las clases. \n",
    "\n",
    "1. Definir el modelo. `modelo = LinearRegresion()`     \n",
    "\n",
    "2. Ajustar, es decir, capturar patrones a partir de los datos proporcionados `modelo.fit(X,y)`\n",
    " \n",
    "    - La matriz de entrada `X`, está formada por las muestras que se representan como filas y las características representadas como columnas.\n",
    "    - Los valores objetivo `y` son números reales para tareas de regresión, o enteros para clasificación (o cualquier otro conjunto discreto de valores). \n",
    "\n",
    "3. Evaluar qué tan precisas son las predicciones del modelo. `modelo.score(X,y)`    \n",
    "    \n",
    "4. Predecir los valores objetivo de nuevos datos. No es necesario volver a entrenar al estimador. `modelo.predict(X)`\n",
    " \n",
    "___\n",
    "\n",
    "En principio, importemos las librerías y los DataFrames con las que vamos a trabajar.\n",
    "\n",
    "**Recordemos el ejercicio** - Predecir si es probable que un paciente sufra un accidente cerebrovascular en función de los parámetros de entrada como el sexo, la edad, diversas enfermedades y el tabaquismo. [Fuente](https://www.kaggle.com/fedesoriano/stroke-prediction-dataset?select=healthcare-dataset-stroke-data.csv)\n",
    "\n",
    "Estos DataFrames fueron tratados en el Notebook [preparacion_datos](https://github.com/bonaldee/ProyectoModelado_ElianaBonalde/blob/main/preparacion_datos.ipynb)."
   ]
  },
  {
   "cell_type": "code",
   "execution_count": 20,
   "id": "0f3dfc59",
   "metadata": {},
   "outputs": [
    {
     "data": {
      "text/html": [
       "<div>\n",
       "<style scoped>\n",
       "    .dataframe tbody tr th:only-of-type {\n",
       "        vertical-align: middle;\n",
       "    }\n",
       "\n",
       "    .dataframe tbody tr th {\n",
       "        vertical-align: top;\n",
       "    }\n",
       "\n",
       "    .dataframe thead th {\n",
       "        text-align: right;\n",
       "    }\n",
       "</style>\n",
       "<table border=\"1\" class=\"dataframe\">\n",
       "  <thead>\n",
       "    <tr style=\"text-align: right;\">\n",
       "      <th></th>\n",
       "      <th>Unnamed: 0</th>\n",
       "      <th>gender</th>\n",
       "      <th>age</th>\n",
       "      <th>hypertension</th>\n",
       "      <th>heart_disease</th>\n",
       "      <th>Residence_type</th>\n",
       "      <th>avg_glucose_level</th>\n",
       "      <th>bmi</th>\n",
       "      <th>smoking_status</th>\n",
       "      <th>stroke</th>\n",
       "    </tr>\n",
       "  </thead>\n",
       "  <tbody>\n",
       "    <tr>\n",
       "      <th>0</th>\n",
       "      <td>0</td>\n",
       "      <td>0</td>\n",
       "      <td>67.0</td>\n",
       "      <td>0</td>\n",
       "      <td>1</td>\n",
       "      <td>0</td>\n",
       "      <td>228.69</td>\n",
       "      <td>36.6</td>\n",
       "      <td>0</td>\n",
       "      <td>1</td>\n",
       "    </tr>\n",
       "    <tr>\n",
       "      <th>1</th>\n",
       "      <td>2</td>\n",
       "      <td>0</td>\n",
       "      <td>80.0</td>\n",
       "      <td>0</td>\n",
       "      <td>1</td>\n",
       "      <td>1</td>\n",
       "      <td>105.92</td>\n",
       "      <td>32.5</td>\n",
       "      <td>1</td>\n",
       "      <td>1</td>\n",
       "    </tr>\n",
       "    <tr>\n",
       "      <th>2</th>\n",
       "      <td>3</td>\n",
       "      <td>1</td>\n",
       "      <td>49.0</td>\n",
       "      <td>0</td>\n",
       "      <td>0</td>\n",
       "      <td>0</td>\n",
       "      <td>171.23</td>\n",
       "      <td>34.4</td>\n",
       "      <td>2</td>\n",
       "      <td>1</td>\n",
       "    </tr>\n",
       "    <tr>\n",
       "      <th>3</th>\n",
       "      <td>4</td>\n",
       "      <td>1</td>\n",
       "      <td>79.0</td>\n",
       "      <td>1</td>\n",
       "      <td>0</td>\n",
       "      <td>1</td>\n",
       "      <td>174.12</td>\n",
       "      <td>24.0</td>\n",
       "      <td>1</td>\n",
       "      <td>1</td>\n",
       "    </tr>\n",
       "    <tr>\n",
       "      <th>4</th>\n",
       "      <td>5</td>\n",
       "      <td>0</td>\n",
       "      <td>81.0</td>\n",
       "      <td>0</td>\n",
       "      <td>0</td>\n",
       "      <td>0</td>\n",
       "      <td>186.21</td>\n",
       "      <td>29.0</td>\n",
       "      <td>0</td>\n",
       "      <td>1</td>\n",
       "    </tr>\n",
       "  </tbody>\n",
       "</table>\n",
       "</div>"
      ],
      "text/plain": [
       "   Unnamed: 0  gender   age  hypertension  heart_disease  Residence_type  \\\n",
       "0           0       0  67.0             0              1               0   \n",
       "1           2       0  80.0             0              1               1   \n",
       "2           3       1  49.0             0              0               0   \n",
       "3           4       1  79.0             1              0               1   \n",
       "4           5       0  81.0             0              0               0   \n",
       "\n",
       "   avg_glucose_level   bmi  smoking_status  stroke  \n",
       "0             228.69  36.6               0       1  \n",
       "1             105.92  32.5               1       1  \n",
       "2             171.23  34.4               2       1  \n",
       "3             174.12  24.0               1       1  \n",
       "4             186.21  29.0               0       1  "
      ]
     },
     "execution_count": 20,
     "metadata": {},
     "output_type": "execute_result"
    }
   ],
   "source": [
    "import pandas as pd\n",
    "import numpy as np\n",
    "import matplotlib.pyplot as plt\n",
    "from matplotlib.colors import ListedColormap\n",
    "import matplotlib.patches as mpatches\n",
    "import seaborn as sb\n",
    "\n",
    "#libraría utilizada en todos los métodos\n",
    "from sklearn.metrics import mean_absolute_error #validar\n",
    "\n",
    "X = pd.read_csv('../../ProyectoModelado_ElianaBonalde/datos/Cardio/df_entrenamiento.csv')\n",
    "y = pd.read_csv('../../ProyectoModelado_ElianaBonalde/datos/Cardio/df_entren_prediccion.csv')\n",
    "X_test = pd.read_csv('../../ProyectoModelado_ElianaBonalde/datos/Cardio/df_test.csv')\n",
    "y_test = pd.read_csv('../../ProyectoModelado_ElianaBonalde/datos/Cardio/df_test_prediccion.csv')\n",
    "df = pd.read_csv('../../ProyectoModelado_ElianaBonalde/datos/Cardio/df.csv')\n",
    "df.head()"
   ]
  },
  {
   "cell_type": "markdown",
   "id": "fe738c1f",
   "metadata": {},
   "source": [
    "Con este ejercicio, vamos a utilizar algunos de los principales algoritmos usados en Machine Learning, sin tomar en cuenta si es el más apropiado o no, el objetivo es compararlos e identificar el que mejor resultado obtiene al predecir si el paciente sufre o no un ataque cerebrovascular.\n",
    "___\n",
    "\n",
    "## Algoritmos de Árbol de decisión\n",
    "\n",
    "Los árboles de desición son modelos predictivos formados por reglas binarias (si/no) con las que se consigue repartir las observaciones en función de sus atributos y predecir así el valor de la variable objetivo. \n",
    "\n",
    "Se utilizan sobre todo para clasificación de información, bifurcando y modelando los posibles caminos tomados y su probabilidad de ocurrencia para mejorar su precisión. El primer nodo se llama raíz, luego se descompone en ramas que se subdividen hasta llegar a las hojas que son los nodos finales. En particular, buscará la mejor ruta, balanceando la posibilidad de ocurrencia y su importancia en cada rama y hojas para clasificar un resultado.\n",
    "\n",
    "___\n",
    "### Árbol de clasificación - [scikit-learn](https://scikit-learn.org/stable/modules/generated/sklearn.tree.DecisionTreeClassifier.html#sklearn.tree.DecisionTreeClassifier)\n",
    "\n",
    "Subtipo de árboles de decisión que se aplica cuando la variable objetivo es categórica."
   ]
  },
  {
   "cell_type": "code",
   "execution_count": 23,
   "id": "8afc5740",
   "metadata": {},
   "outputs": [],
   "source": [
    "from sklearn import tree\n",
    "from sklearn.model_selection import cross_validate\n",
    "mo_DTC =  tree. DecisionTreeClassifier(splitter='best', max_depth=3, min_samples_split=2, random_state=0) #Definimos el modelo.\n",
    "mo_DTC = mo_DTC.fit(X, y) #Ajustamos el modelo"
   ]
  },
  {
   "cell_type": "markdown",
   "id": "5e05a104",
   "metadata": {},
   "source": [
    "Los parámetros utlizados en este modelo fueron:\n",
    "\n",
    "- `splitter`: La estrategia utilizada para elegir la división en cada nodo. Las estrategias admitidas son  **best** para elegir la mejor división y **random** para elegir la mejor división aleatoria. Por defecto es **best**.\n",
    "- `max_depth`: La profundidad máxima del árbol. Para obtener un comportamiento determinista durante el ajuste, debe fijarse a un número entero. \n",
    "- `min_sample_split`: Número mínimo de muestras necesarias para dividir un nodo interno. Por defecto es 2. \n",
    "- `random_state`: Controla la aleatoriedad del estimador. \n",
    "\n",
    "Una vez seleccionado y entrenado el modelo con los datos de entrenamiento, podemos predecir la variable objetivo con el conjunto de prueba. Para mayor comodidad, lo visualizamos como un DataFrame. "
   ]
  },
  {
   "cell_type": "code",
   "execution_count": 40,
   "id": "569fc078",
   "metadata": {},
   "outputs": [
    {
     "data": {
      "text/html": [
       "<div>\n",
       "<style scoped>\n",
       "    .dataframe tbody tr th:only-of-type {\n",
       "        vertical-align: middle;\n",
       "    }\n",
       "\n",
       "    .dataframe tbody tr th {\n",
       "        vertical-align: top;\n",
       "    }\n",
       "\n",
       "    .dataframe thead th {\n",
       "        text-align: right;\n",
       "    }\n",
       "</style>\n",
       "<table border=\"1\" class=\"dataframe\">\n",
       "  <thead>\n",
       "    <tr style=\"text-align: right;\">\n",
       "      <th></th>\n",
       "      <th>0</th>\n",
       "      <th>1</th>\n",
       "    </tr>\n",
       "  </thead>\n",
       "  <tbody>\n",
       "    <tr>\n",
       "      <th>0</th>\n",
       "      <td>3</td>\n",
       "      <td>1</td>\n",
       "    </tr>\n",
       "    <tr>\n",
       "      <th>1</th>\n",
       "      <td>39</td>\n",
       "      <td>1</td>\n",
       "    </tr>\n",
       "    <tr>\n",
       "      <th>2</th>\n",
       "      <td>2</td>\n",
       "      <td>1</td>\n",
       "    </tr>\n",
       "    <tr>\n",
       "      <th>3</th>\n",
       "      <td>3</td>\n",
       "      <td>1</td>\n",
       "    </tr>\n",
       "  </tbody>\n",
       "</table>\n",
       "</div>"
      ],
      "text/plain": [
       "    0  1\n",
       "0   3  1\n",
       "1  39  1\n",
       "2   2  1\n",
       "3   3  1"
      ]
     },
     "execution_count": 40,
     "metadata": {},
     "output_type": "execute_result"
    }
   ],
   "source": [
    "predic_DTC = mo_DTC.predict(X_test)\n",
    "DTC_df = pd.DataFrame(predic_DTC)\n",
    "DTC_df.head(4)"
   ]
  },
  {
   "cell_type": "code",
   "execution_count": 25,
   "id": "1a27b070",
   "metadata": {},
   "outputs": [
    {
     "data": {
      "image/png": "[encoded data removed]",
      "text/plain": [
       "<Figure size 432x288 with 1 Axes>"
      ]
     },
     "metadata": {
      "needs_background": "light"
     },
     "output_type": "display_data"
    }
   ],
   "source": [
    "decision_tree = tree.plot_tree(\n",
    "    decision_tree = mo_DTC,\n",
    "    #feature_names = labels.tolist(),\n",
    "    class_names = 'stroke',\n",
    "    filled = True,\n",
    "    impurity = False,\n",
    "    fontsize = 7) "
   ]
  },
  {
   "cell_type": "code",
   "execution_count": 28,
   "id": "3548b865",
   "metadata": {},
   "outputs": [],
   "source": [
    "#print(mo_DTC.score(y_test, predic_DTC))"
   ]
  },
  {
   "cell_type": "code",
   "execution_count": 55,
   "id": "3cc298f5",
   "metadata": {},
   "outputs": [
    {
     "data": {
      "text/plain": [
       "1191.2372708757637"
      ]
     },
     "execution_count": 55,
     "metadata": {},
     "output_type": "execute_result"
    }
   ],
   "source": [
    "error = mean_absolute_error(\n",
    "        y_true  = y_test,\n",
    "        y_pred  = predic_DTC,\n",
    "        )\n",
    "error"
   ]
  },
  {
   "cell_type": "markdown",
   "id": "e9e28fcc",
   "metadata": {},
   "source": [
    "### Árbol de regresión - [scikit-learn](https://scikit-learn.org/stable/modules/generated/sklearn.tree.DecisionTreeRegressor.html#sklearn.tree.DecisionTreeRegressor)\n",
    "\n",
    "Subtipo de árboles de decisión que se aplica cuando la variable objetivo es continua."
   ]
  },
  {
   "cell_type": "code",
   "execution_count": 7,
   "id": "ba2053f8",
   "metadata": {},
   "outputs": [
    {
     "data": {
      "text/plain": [
       "DecisionTreeRegressor(random_state=1)"
      ]
     },
     "execution_count": 7,
     "metadata": {},
     "output_type": "execute_result"
    }
   ],
   "source": [
    "mo_DTR = tree.DecisionTreeRegressor(random_state=1) \n",
    "mo_DTR.fit(X, y)"
   ]
  },
  {
   "cell_type": "code",
   "execution_count": 36,
   "id": "3b61e7dc",
   "metadata": {},
   "outputs": [
    {
     "data": {
      "text/html": [
       "<div>\n",
       "<style scoped>\n",
       "    .dataframe tbody tr th:only-of-type {\n",
       "        vertical-align: middle;\n",
       "    }\n",
       "\n",
       "    .dataframe tbody tr th {\n",
       "        vertical-align: top;\n",
       "    }\n",
       "\n",
       "    .dataframe thead th {\n",
       "        text-align: right;\n",
       "    }\n",
       "</style>\n",
       "<table border=\"1\" class=\"dataframe\">\n",
       "  <thead>\n",
       "    <tr style=\"text-align: right;\">\n",
       "      <th></th>\n",
       "      <th>0</th>\n",
       "      <th>1</th>\n",
       "    </tr>\n",
       "  </thead>\n",
       "  <tbody>\n",
       "    <tr>\n",
       "      <th>0</th>\n",
       "      <td>3.0</td>\n",
       "      <td>1.0</td>\n",
       "    </tr>\n",
       "    <tr>\n",
       "      <th>1</th>\n",
       "      <td>10.0</td>\n",
       "      <td>1.0</td>\n",
       "    </tr>\n",
       "    <tr>\n",
       "      <th>2</th>\n",
       "      <td>24.0</td>\n",
       "      <td>1.0</td>\n",
       "    </tr>\n",
       "    <tr>\n",
       "      <th>3</th>\n",
       "      <td>28.0</td>\n",
       "      <td>1.0</td>\n",
       "    </tr>\n",
       "    <tr>\n",
       "      <th>4</th>\n",
       "      <td>33.0</td>\n",
       "      <td>1.0</td>\n",
       "    </tr>\n",
       "  </tbody>\n",
       "</table>\n",
       "</div>"
      ],
      "text/plain": [
       "      0    1\n",
       "0   3.0  1.0\n",
       "1  10.0  1.0\n",
       "2  24.0  1.0\n",
       "3  28.0  1.0\n",
       "4  33.0  1.0"
      ]
     },
     "execution_count": 36,
     "metadata": {},
     "output_type": "execute_result"
    }
   ],
   "source": [
    "predic_DTR = mo_DTR.predict(X_test)\n",
    "DTR_df = pd.DataFrame(predic_DTR)\n",
    "DTR_df.head()"
   ]
  },
  {
   "cell_type": "code",
   "execution_count": 9,
   "id": "b1bef1fa",
   "metadata": {},
   "outputs": [
    {
     "name": "stdout",
     "output_type": "stream",
     "text": [
      "0.9881018109464292\n"
     ]
    }
   ],
   "source": [
    "print(mo_DTR.score(X_test, y_test))"
   ]
  },
  {
   "cell_type": "code",
   "execution_count": 56,
   "id": "d49cae05",
   "metadata": {},
   "outputs": [
    {
     "data": {
      "text/plain": [
       "1.0519348268839104"
      ]
     },
     "execution_count": 56,
     "metadata": {},
     "output_type": "execute_result"
    }
   ],
   "source": [
    "error_DTR = mean_absolute_error(\n",
    "        y_true  = y_test,\n",
    "        y_pred  = predic_DTR,\n",
    "        )\n",
    "error_DTR"
   ]
  },
  {
   "cell_type": "markdown",
   "id": "a9f89f9d",
   "metadata": {},
   "source": [
    "Para tener una idea del rendimiento futuro de nuestro modelo, debemos probarlo en los datos del conjunto de prueba, es decir, datos que el modelo nunca ha visto.\n",
    "\n",
    "Este modelo es capaz de predecir correctamente un 98% aproximadamente de las observaciones del conjusto de prueba. Para afirmar que es un buen modelo, la puntuación debería estar entre 91 y 99%, aproximadamente.\n",
    "\n",
    "Los árboles de decisión pueden ser inestables porque pequeñas variaciones en los datos pueden resultar en la generación de un árbol completamente diferente. Además, te dejan con una decisión difícil, un árbol profundo con muchas hojas tiene mucha varianza, pero se ajustan mucho a los datos de entrenamiento, y es aquí donde vemos el sobreajuste porque cada predicción proviene de datos históricos de solo algunos datos en su hoja. Ahora bien, un árbol poco profundo con pocas hojas, tiene poca varianza, pero no consiguen representar la relaciones entre las variables, por lo tanto, tendrá un desempeño deficiente porque no logra capturar tantas distinciones en los datos brutos.\n",
    "\n",
    "Este método sufre el problema de equilibrio entre sesgo y varianza, esto se soluciona con los métodos de ensamble, los cuales buscan equilibrar. \n",
    "___\n",
    "### Random Forest \n",
    "\n",
    "Un modelo Random Forest es un tipo de ensamble en Machine Learning combinando un conjunto de árboles de decisión individuales, donde la predicción de una nueva observación se obtiene agregando las predicciones de todos los árboles individuales que forman el modelo.\n",
    "\n",
    "Al igual que los los árboles de decisión, los bosques tienen dos subtipos: [clasificación](https://scikit-learn.org/stable/modules/generated/sklearn.ensemble.RandomForestClassifier.html#sklearn.ensemble.RandomForestClassifier) y [regresión](https://scikit-learn.org/stable/modules/generated/sklearn.ensemble.RandomForestRegressor.html#sklearn.ensemble.RandomForestRegressor).  "
   ]
  },
  {
   "cell_type": "code",
   "execution_count": 31,
   "id": "3ec6ecdc",
   "metadata": {},
   "outputs": [
    {
     "data": {
      "text/plain": [
       "RandomForestClassifier(max_depth=2, n_estimators=50, random_state=0)"
      ]
     },
     "execution_count": 31,
     "metadata": {},
     "output_type": "execute_result"
    }
   ],
   "source": [
    "from sklearn.ensemble import RandomForestClassifier #ramdom forest\n",
    "mo_RF = RandomForestClassifier(n_estimators=50, max_depth=2, random_state=0)\n",
    "mo_RF.fit(X, y)"
   ]
  },
  {
   "cell_type": "markdown",
   "id": "d14eb806",
   "metadata": {},
   "source": [
    "Además de los parámetros utilizados en arboles de decisión, usamos `n_estimators`, el cual configura el número de árboles en el bosque. Cuanto más grande, mejor, pero también más tiempo se tardará en calcular. El Valor por defecto es 100."
   ]
  },
  {
   "cell_type": "code",
   "execution_count": 47,
   "id": "3c8abfc3",
   "metadata": {},
   "outputs": [
    {
     "data": {
      "text/html": [
       "<div>\n",
       "<style scoped>\n",
       "    .dataframe tbody tr th:only-of-type {\n",
       "        vertical-align: middle;\n",
       "    }\n",
       "\n",
       "    .dataframe tbody tr th {\n",
       "        vertical-align: top;\n",
       "    }\n",
       "\n",
       "    .dataframe thead th {\n",
       "        text-align: right;\n",
       "    }\n",
       "</style>\n",
       "<table border=\"1\" class=\"dataframe\">\n",
       "  <thead>\n",
       "    <tr style=\"text-align: right;\">\n",
       "      <th></th>\n",
       "      <th>0</th>\n",
       "      <th>1</th>\n",
       "    </tr>\n",
       "  </thead>\n",
       "  <tbody>\n",
       "    <tr>\n",
       "      <th>0</th>\n",
       "      <td>42</td>\n",
       "      <td>1</td>\n",
       "    </tr>\n",
       "    <tr>\n",
       "      <th>1</th>\n",
       "      <td>109</td>\n",
       "      <td>1</td>\n",
       "    </tr>\n",
       "    <tr>\n",
       "      <th>2</th>\n",
       "      <td>40</td>\n",
       "      <td>1</td>\n",
       "    </tr>\n",
       "    <tr>\n",
       "      <th>3</th>\n",
       "      <td>44</td>\n",
       "      <td>0</td>\n",
       "    </tr>\n",
       "    <tr>\n",
       "      <th>4</th>\n",
       "      <td>88</td>\n",
       "      <td>1</td>\n",
       "    </tr>\n",
       "  </tbody>\n",
       "</table>\n",
       "</div>"
      ],
      "text/plain": [
       "     0  1\n",
       "0   42  1\n",
       "1  109  1\n",
       "2   40  1\n",
       "3   44  0\n",
       "4   88  1"
      ]
     },
     "execution_count": 47,
     "metadata": {},
     "output_type": "execute_result"
    }
   ],
   "source": [
    "predic_RF = mo_RF.predict(X_test)\n",
    "RF_df= pd.DataFrame(predic_RF)\n",
    "RF_df.head()"
   ]
  },
  {
   "cell_type": "code",
   "execution_count": 35,
   "id": "a1624dfe",
   "metadata": {},
   "outputs": [],
   "source": [
    "#print(mo_RF.score(X_test, y_test))"
   ]
  },
  {
   "cell_type": "code",
   "execution_count": 57,
   "id": "e21c9ee1",
   "metadata": {},
   "outputs": [
    {
     "data": {
      "text/plain": [
       "789.6216904276986"
      ]
     },
     "execution_count": 57,
     "metadata": {},
     "output_type": "execute_result"
    }
   ],
   "source": [
    "error_RF = mean_absolute_error(\n",
    "        y_true  = y_test,\n",
    "        y_pred  = predic_RF,\n",
    "        )\n",
    "error_RF"
   ]
  },
  {
   "cell_type": "markdown",
   "id": "8ce4be63",
   "metadata": {},
   "source": [
    "## Algoritmos basados en Instancia\n",
    "\n",
    "### Nearest Neighbors \n",
    "\n",
    "La idea general de los métodos de Nearest Neighbors es encontrar un número predefinido de muestras de entrenamiento más cercanas a la que se está tratando de predecir y clasifica el punto de interés basado en la mayoría de datos que le rodean.\n",
    "\n",
    "El aprendizaje basado en vecinos supervisados se clasifica en: \n",
    "- Clasificación, se usa para datos con etiquetas discretas.\n",
    "\n",
    "    - KNeighborsClassifier, el número de muestras puede ser una constante definida por el usuario - [scikit-learn](https://scikit-learn.org/stable/modules/generated/sklearn.neighbors.KNeighborsClassifier.html#sklearn.neighbors.KNeighborsClassifier).\n",
    "    - RadiusNeighborsClassifier, el número de muestra varia según la densidad local de puntos - [scikit-learn](https://scikit-learn.org/stable/modules/generated/sklearn.neighbors.RadiusNeighborsClassifier.html#sklearn.neighbors.RadiusNeighborsClassifier).\n",
    " \n",
    "- Regresión, usado para datos con etiquetas continuas.\n",
    "\n",
    "    - KNeighborsRegressor - [scikit-learn](https://scikit-learn.org/stable/modules/generated/sklearn.neighbors.KNeighborsRegressor.html#sklearn.neighbors.KNeighborsRegressor)\n",
    "    \n",
    "    - RadiusNeighborsRegressor - [scikit-learn](https://scikit-learn.org/stable/modules/generated/sklearn.neighbors.RadiusNeighborsRegressor.html#sklearn.neighbors.RadiusNeighborsRegressor)\n",
    "\n",
    " \n",
    "KNeighbors es la técnica más utilizada. La elección óptima del valor depende en gran medida de los datos, en general, un valor mayor suprime los efectos del ruido, pero hace que los límites de clasificación sean menos distintos. En los casos en los que los datos no se muestrean de manera uniforme, RadiusNeighbors puede ser una mejor opción.\n",
    "\n",
    "En resumen:\n",
    "\n",
    "- Calcula la distancia entre el item a clasificar y el resto.\n",
    "- Seleccionar los k elementos más cercanos.\n",
    "- Los de una clase que dominen será su clasificación final."
   ]
  },
  {
   "cell_type": "code",
   "execution_count": 49,
   "id": "1496a50f",
   "metadata": {},
   "outputs": [
    {
     "data": {
      "text/plain": [
       "KNeighborsRegressor()"
      ]
     },
     "execution_count": 49,
     "metadata": {},
     "output_type": "execute_result"
    }
   ],
   "source": [
    "from sklearn.neighbors import KNeighborsClassifier\n",
    "from sklearn.neighbors import KNeighborsRegressor\n",
    "#mo_KN = KNeighborsClassifier(n_neighbors=5) \n",
    "mo_KN = KNeighborsRegressor(n_neighbors=5)\n",
    "mo_KN.fit(X, y)"
   ]
  },
  {
   "cell_type": "markdown",
   "id": "89f05f2b",
   "metadata": {},
   "source": [
    "El parámetro utlizado en este modelo fue: `n_neighbors`, el cual configura el número de vecinos que se utilizarán para las consultas."
   ]
  },
  {
   "cell_type": "code",
   "execution_count": 53,
   "id": "d34dc881",
   "metadata": {},
   "outputs": [
    {
     "data": {
      "text/html": [
       "<div>\n",
       "<style scoped>\n",
       "    .dataframe tbody tr th:only-of-type {\n",
       "        vertical-align: middle;\n",
       "    }\n",
       "\n",
       "    .dataframe tbody tr th {\n",
       "        vertical-align: top;\n",
       "    }\n",
       "\n",
       "    .dataframe thead th {\n",
       "        text-align: right;\n",
       "    }\n",
       "</style>\n",
       "<table border=\"1\" class=\"dataframe\">\n",
       "  <thead>\n",
       "    <tr style=\"text-align: right;\">\n",
       "      <th></th>\n",
       "      <th>0</th>\n",
       "      <th>1</th>\n",
       "    </tr>\n",
       "  </thead>\n",
       "  <tbody>\n",
       "    <tr>\n",
       "      <th>0</th>\n",
       "      <td>19.4</td>\n",
       "      <td>1.0</td>\n",
       "    </tr>\n",
       "    <tr>\n",
       "      <th>1</th>\n",
       "      <td>25.6</td>\n",
       "      <td>1.0</td>\n",
       "    </tr>\n",
       "    <tr>\n",
       "      <th>2</th>\n",
       "      <td>18.8</td>\n",
       "      <td>1.0</td>\n",
       "    </tr>\n",
       "    <tr>\n",
       "      <th>3</th>\n",
       "      <td>29.0</td>\n",
       "      <td>1.0</td>\n",
       "    </tr>\n",
       "    <tr>\n",
       "      <th>4</th>\n",
       "      <td>27.2</td>\n",
       "      <td>1.0</td>\n",
       "    </tr>\n",
       "  </tbody>\n",
       "</table>\n",
       "</div>"
      ],
      "text/plain": [
       "      0    1\n",
       "0  19.4  1.0\n",
       "1  25.6  1.0\n",
       "2  18.8  1.0\n",
       "3  29.0  1.0\n",
       "4  27.2  1.0"
      ]
     },
     "execution_count": 53,
     "metadata": {},
     "output_type": "execute_result"
    }
   ],
   "source": [
    "predic_KN = mo_KN.predict(X_test)\n",
    "KN_df= pd.DataFrame(predic_KN)\n",
    "KN_df.head()"
   ]
  },
  {
   "cell_type": "code",
   "execution_count": 52,
   "id": "20b7d59f",
   "metadata": {},
   "outputs": [
    {
     "name": "stdout",
     "output_type": "stream",
     "text": [
      "0.9885697974541406\n"
     ]
    }
   ],
   "source": [
    "print(mo_KN.score(X_test, y_test))"
   ]
  },
  {
   "cell_type": "code",
   "execution_count": 54,
   "id": "60cdd7f6",
   "metadata": {},
   "outputs": [
    {
     "data": {
      "text/plain": [
       "2.343380855397148"
      ]
     },
     "execution_count": 54,
     "metadata": {},
     "output_type": "execute_result"
    }
   ],
   "source": [
    "error_KN = mean_absolute_error(\n",
    "        y_true  = y_test,\n",
    "        y_pred  = predic_KN,\n",
    "        )\n",
    "error_KN"
   ]
  }
 ],
 "metadata": {
  "kernelspec": {
   "display_name": "Python 3",
   "language": "python",
   "name": "python3"
  },
  "language_info": {
   "codemirror_mode": {
    "name": "ipython",
    "version": 3
   },
   "file_extension": ".py",
   "mimetype": "text/x-python",
   "name": "python",
   "nbconvert_exporter": "python",
   "pygments_lexer": "ipython3",
   "version": "3.8.8"
  }
 },
 "nbformat": 4,
 "nbformat_minor": 5
}
