{
 "cells": [
  {
   "cell_type": "markdown",
   "id": "a9225755",
   "metadata": {},
   "source": [
    "# Aprendiendo Machine Learning con Python \n",
    "\n",
    "## Scikit learn\n",
    "Librería de Python donde todos los modelos y algoritmos del aprendizaje automático se han implementado con una arquitectura orientada a objetos. Cada modelo tiene su propia clase. \n",
    "\n",
    "Para empezar a importar los algoritmos, importe los módulos correspondientes, no la librería en general, de lo contrario cuando llame algún método no funcionará.  \n",
    "\n",
    "`import from sklearn.linear_model import LinearRegression`\n",
    "\n",
    "Para crear un modelo, generamos un objeto de la clase correspondiente a este modelo. \n",
    "\n",
    "`modelo = LinearRegression()` --- object = modelo(parámetros)\n",
    "\n",
    "___\n",
    "\n",
    "## ¿Cómo elegir el algoritmo a utilizar?\n",
    "\n",
    "Ésta podría ser la parte más dificil, encontrar el estimador adecuado para el trabajo. En el siguiente mapa encontrará buenos estimadores para cada aplicación.\n",
    "\n",
    "![Mapa de estimadores](https://github.com/bonaldee/ProyectoModelado_ElianaBonalde/tree/main/codigo/ml_map.png)\n",
    "\n",
    "[Fuente](https://scikit-learn.org/stable/tutorial/machine_learning_map/index.html)\n",
    "\n",
    "\n",
    "## Construyendo el modelo\n",
    "Para desarrollar cualquier modelo, se usan estos métodos, los cuales están en todas las clases. \n",
    "\n",
    "- `modelo = LinearRegresion()` Definir el modelo\n",
    "- `modelo.fit(X,y)` Ajustar, es decir, capturar patrones a partir de los datos proporcionados.\n",
    "- `modelo.score(X,y)` Evaluar qué tan prescisas son las predicciones del modelo.\n",
    "- `modelo.predict(X)` Predecir\n",
    "\n",
    "___\n",
    "\n",
    "\n",
    "En principio, importemos las librerías y los DataFrames con las que vamos a trabajar.\n",
    "\n",
    "**Recordemos el ejercicio:** Predecir si es probable que un paciente sufra un accidente cerebrovascular en función de los parámetros de entrada como el sexo, la edad, diversas enfermedades y el tabaquismo. Cada fila de los datos proporciona información relevante sobre el paciente.\n",
    "\n",
    "Estos DataFrames fueron tratados en el Notebook [preparacion_datos](https://github.com/bonaldee/ProyectoModelado_ElianaBonalde/blob/main/preparacion_datos.ipynb)."
   ]
  },
  {
   "cell_type": "code",
   "execution_count": 1,
   "id": "0f3dfc59",
   "metadata": {},
   "outputs": [
    {
     "data": {
      "text/html": [
       "<div>\n",
       "<style scoped>\n",
       "    .dataframe tbody tr th:only-of-type {\n",
       "        vertical-align: middle;\n",
       "    }\n",
       "\n",
       "    .dataframe tbody tr th {\n",
       "        vertical-align: top;\n",
       "    }\n",
       "\n",
       "    .dataframe thead th {\n",
       "        text-align: right;\n",
       "    }\n",
       "</style>\n",
       "<table border=\"1\" class=\"dataframe\">\n",
       "  <thead>\n",
       "    <tr style=\"text-align: right;\">\n",
       "      <th></th>\n",
       "      <th>Unnamed: 0</th>\n",
       "      <th>gender</th>\n",
       "      <th>age</th>\n",
       "      <th>hypertension</th>\n",
       "      <th>heart_disease</th>\n",
       "      <th>ever_married</th>\n",
       "      <th>work_type</th>\n",
       "      <th>Residence_type</th>\n",
       "      <th>avg_glucose_level</th>\n",
       "      <th>bmi</th>\n",
       "      <th>smoking_status</th>\n",
       "      <th>stroke</th>\n",
       "    </tr>\n",
       "  </thead>\n",
       "  <tbody>\n",
       "    <tr>\n",
       "      <th>0</th>\n",
       "      <td>0</td>\n",
       "      <td>0</td>\n",
       "      <td>67.0</td>\n",
       "      <td>0</td>\n",
       "      <td>1</td>\n",
       "      <td>1</td>\n",
       "      <td>0</td>\n",
       "      <td>0</td>\n",
       "      <td>228.69</td>\n",
       "      <td>36.6</td>\n",
       "      <td>0</td>\n",
       "      <td>1</td>\n",
       "    </tr>\n",
       "    <tr>\n",
       "      <th>1</th>\n",
       "      <td>2</td>\n",
       "      <td>0</td>\n",
       "      <td>80.0</td>\n",
       "      <td>0</td>\n",
       "      <td>1</td>\n",
       "      <td>1</td>\n",
       "      <td>0</td>\n",
       "      <td>1</td>\n",
       "      <td>105.92</td>\n",
       "      <td>32.5</td>\n",
       "      <td>1</td>\n",
       "      <td>1</td>\n",
       "    </tr>\n",
       "    <tr>\n",
       "      <th>2</th>\n",
       "      <td>3</td>\n",
       "      <td>1</td>\n",
       "      <td>49.0</td>\n",
       "      <td>0</td>\n",
       "      <td>0</td>\n",
       "      <td>1</td>\n",
       "      <td>0</td>\n",
       "      <td>0</td>\n",
       "      <td>171.23</td>\n",
       "      <td>34.4</td>\n",
       "      <td>2</td>\n",
       "      <td>1</td>\n",
       "    </tr>\n",
       "    <tr>\n",
       "      <th>3</th>\n",
       "      <td>4</td>\n",
       "      <td>1</td>\n",
       "      <td>79.0</td>\n",
       "      <td>1</td>\n",
       "      <td>0</td>\n",
       "      <td>1</td>\n",
       "      <td>1</td>\n",
       "      <td>1</td>\n",
       "      <td>174.12</td>\n",
       "      <td>24.0</td>\n",
       "      <td>1</td>\n",
       "      <td>1</td>\n",
       "    </tr>\n",
       "    <tr>\n",
       "      <th>4</th>\n",
       "      <td>5</td>\n",
       "      <td>0</td>\n",
       "      <td>81.0</td>\n",
       "      <td>0</td>\n",
       "      <td>0</td>\n",
       "      <td>1</td>\n",
       "      <td>0</td>\n",
       "      <td>0</td>\n",
       "      <td>186.21</td>\n",
       "      <td>29.0</td>\n",
       "      <td>0</td>\n",
       "      <td>1</td>\n",
       "    </tr>\n",
       "    <tr>\n",
       "      <th>...</th>\n",
       "      <td>...</td>\n",
       "      <td>...</td>\n",
       "      <td>...</td>\n",
       "      <td>...</td>\n",
       "      <td>...</td>\n",
       "      <td>...</td>\n",
       "      <td>...</td>\n",
       "      <td>...</td>\n",
       "      <td>...</td>\n",
       "      <td>...</td>\n",
       "      <td>...</td>\n",
       "      <td>...</td>\n",
       "    </tr>\n",
       "    <tr>\n",
       "      <th>4904</th>\n",
       "      <td>5104</td>\n",
       "      <td>1</td>\n",
       "      <td>13.0</td>\n",
       "      <td>0</td>\n",
       "      <td>0</td>\n",
       "      <td>0</td>\n",
       "      <td>3</td>\n",
       "      <td>1</td>\n",
       "      <td>103.08</td>\n",
       "      <td>18.6</td>\n",
       "      <td>3</td>\n",
       "      <td>0</td>\n",
       "    </tr>\n",
       "    <tr>\n",
       "      <th>4905</th>\n",
       "      <td>5106</td>\n",
       "      <td>1</td>\n",
       "      <td>81.0</td>\n",
       "      <td>0</td>\n",
       "      <td>0</td>\n",
       "      <td>1</td>\n",
       "      <td>1</td>\n",
       "      <td>0</td>\n",
       "      <td>125.20</td>\n",
       "      <td>40.0</td>\n",
       "      <td>1</td>\n",
       "      <td>0</td>\n",
       "    </tr>\n",
       "    <tr>\n",
       "      <th>4906</th>\n",
       "      <td>5107</td>\n",
       "      <td>1</td>\n",
       "      <td>35.0</td>\n",
       "      <td>0</td>\n",
       "      <td>0</td>\n",
       "      <td>1</td>\n",
       "      <td>1</td>\n",
       "      <td>1</td>\n",
       "      <td>82.99</td>\n",
       "      <td>30.6</td>\n",
       "      <td>1</td>\n",
       "      <td>0</td>\n",
       "    </tr>\n",
       "    <tr>\n",
       "      <th>4907</th>\n",
       "      <td>5108</td>\n",
       "      <td>0</td>\n",
       "      <td>51.0</td>\n",
       "      <td>0</td>\n",
       "      <td>0</td>\n",
       "      <td>1</td>\n",
       "      <td>0</td>\n",
       "      <td>1</td>\n",
       "      <td>166.29</td>\n",
       "      <td>25.6</td>\n",
       "      <td>0</td>\n",
       "      <td>0</td>\n",
       "    </tr>\n",
       "    <tr>\n",
       "      <th>4908</th>\n",
       "      <td>5109</td>\n",
       "      <td>1</td>\n",
       "      <td>44.0</td>\n",
       "      <td>0</td>\n",
       "      <td>0</td>\n",
       "      <td>1</td>\n",
       "      <td>2</td>\n",
       "      <td>0</td>\n",
       "      <td>85.28</td>\n",
       "      <td>26.2</td>\n",
       "      <td>3</td>\n",
       "      <td>0</td>\n",
       "    </tr>\n",
       "  </tbody>\n",
       "</table>\n",
       "<p>4909 rows × 12 columns</p>\n",
       "</div>"
      ],
      "text/plain": [
       "      Unnamed: 0  gender   age  hypertension  heart_disease  ever_married  \\\n",
       "0              0       0  67.0             0              1             1   \n",
       "1              2       0  80.0             0              1             1   \n",
       "2              3       1  49.0             0              0             1   \n",
       "3              4       1  79.0             1              0             1   \n",
       "4              5       0  81.0             0              0             1   \n",
       "...          ...     ...   ...           ...            ...           ...   \n",
       "4904        5104       1  13.0             0              0             0   \n",
       "4905        5106       1  81.0             0              0             1   \n",
       "4906        5107       1  35.0             0              0             1   \n",
       "4907        5108       0  51.0             0              0             1   \n",
       "4908        5109       1  44.0             0              0             1   \n",
       "\n",
       "      work_type  Residence_type  avg_glucose_level   bmi  smoking_status  \\\n",
       "0             0               0             228.69  36.6               0   \n",
       "1             0               1             105.92  32.5               1   \n",
       "2             0               0             171.23  34.4               2   \n",
       "3             1               1             174.12  24.0               1   \n",
       "4             0               0             186.21  29.0               0   \n",
       "...         ...             ...                ...   ...             ...   \n",
       "4904          3               1             103.08  18.6               3   \n",
       "4905          1               0             125.20  40.0               1   \n",
       "4906          1               1              82.99  30.6               1   \n",
       "4907          0               1             166.29  25.6               0   \n",
       "4908          2               0              85.28  26.2               3   \n",
       "\n",
       "      stroke  \n",
       "0          1  \n",
       "1          1  \n",
       "2          1  \n",
       "3          1  \n",
       "4          1  \n",
       "...      ...  \n",
       "4904       0  \n",
       "4905       0  \n",
       "4906       0  \n",
       "4907       0  \n",
       "4908       0  \n",
       "\n",
       "[4909 rows x 12 columns]"
      ]
     },
     "execution_count": 1,
     "metadata": {},
     "output_type": "execute_result"
    }
   ],
   "source": [
    "import pandas as pd\n",
    "import numpy as np\n",
    "import matplotlib.pyplot as plt\n",
    "from matplotlib.colors import ListedColormap\n",
    "import matplotlib.patches as mpatches\n",
    "import seaborn as sb\n",
    "\n",
    "#librarías utilizadas en todos los métodos\n",
    "from sklearn.metrics import mean_squared_error #validar\n",
    "from sklearn.metrics import mean_absolute_error #validar\n",
    "\n",
    "df_entrenamiento = pd.read_csv('../../ProyectoModelado_ElianaBonalde/datos/Cardio/df_entrenamiento.csv')\n",
    "df_entren_prediccion = pd.read_csv('../../ProyectoModelado_ElianaBonalde/datos/Cardio/df_entren_prediccion.csv')\n",
    "df_test = pd.read_csv('../../ProyectoModelado_ElianaBonalde/datos/Cardio/df_test.csv')\n",
    "df_test_prediccion = pd.read_csv('../../ProyectoModelado_ElianaBonalde/datos/Cardio/df_test_prediccion.csv')\n",
    "df = pd.read_csv('../../ProyectoModelado_ElianaBonalde/datos/Cardio/df.csv')\n",
    "df"
   ]
  },
  {
   "cell_type": "markdown",
   "id": "0a0a0078",
   "metadata": {},
   "source": [
    "Con este ejercicio, vamos a utilizar varios métodos, específicamente, los principales algoritmos usados en Machine Learning, sin tomar en cuenta si es el apropiado o no. \n",
    "___ \n",
    "\n",
    "## Algoritmos de Regresión\n",
    "\n",
    "### Regresión lineal \n",
    "\n",
    "La regresión lineal es un algoritmo de aprendizaje supervisado, la idea es obtener automáticamente una “recta” que se busca con la tendencia de predicción de un conjunto de datos continuos. Para hacerlo se mide el error con respecto a los puntos de entrada y el valor de salida real. El algoritmo deberá minimizar el coste de una función de error cuadrático y esos coeficientes corresponderán con la recta óptima.\n",
    "\n",
    "\n",
    "### Regresión logística \n",
    "\n",
    "El caso en que el conjunto de datos es discreto. "
   ]
  },
  {
   "cell_type": "code",
   "execution_count": 2,
   "id": "0c5a0ecd",
   "metadata": {},
   "outputs": [
    {
     "data": {
      "text/plain": [
       "LinearRegression()"
      ]
     },
     "execution_count": 2,
     "metadata": {},
     "output_type": "execute_result"
    }
   ],
   "source": [
    "from sklearn.linear_model import LinearRegression \n",
    "modelo_regre = LinearRegression() #no utiliza parámeros porque implementa el método de mínimos cuadrados\n",
    "modelo_regre.fit(df_entrenamiento, df_entren_prediccion) #Entrenamos nuestro modelo"
   ]
  },
  {
   "cell_type": "code",
   "execution_count": 8,
   "id": "f60735b0",
   "metadata": {},
   "outputs": [],
   "source": [
    "predicciones_regre = modelo_regre.predict(df_test) #comportamiento"
   ]
  },
  {
   "cell_type": "code",
   "execution_count": 9,
   "id": "b80c3e3c",
   "metadata": {},
   "outputs": [
    {
     "name": "stdout",
     "output_type": "stream",
     "text": [
      "0.588428063576591\n"
     ]
    }
   ],
   "source": [
    "print(modelo_regre.score(df_test, df_test_prediccion))#coeficiente de determinación del método de #mínimos cuadrados "
   ]
  },
  {
   "cell_type": "markdown",
   "id": "509d2407",
   "metadata": {},
   "source": [
    "Para tener una idea del rendimiento futuro de nuestro modelo, debemos probarlo en los datos del conjunto de prueba, es decir, datos que el modelo nunca ha visto. El resultado es un 0.58, esto significa que el modelo acertará un 58% de sus predicciones en el futuro, aproximadamente. \n",
    "\n",
    "\n",
    "Podemos decir que no es un buen modelo, la idea es que la puntuación esté entre 91 y 99%, aproximadamente."
   ]
  },
  {
   "cell_type": "code",
   "execution_count": 7,
   "id": "754dc698",
   "metadata": {},
   "outputs": [
    {
     "name": "stdout",
     "output_type": "stream",
     "text": [
      "0.13078731191877446 0.2244998813809523\n"
     ]
    }
   ],
   "source": [
    "error_regre_ms = np.sqrt(mean_squared_error(df_test_prediccion ,predicciones_regre)) \n",
    "error_regre_ma = np.sqrt(mean_absolute_error(df_test_prediccion ,predicciones_regre)) \n",
    "print(error_regre_ms, error_regre_ma)"
   ]
  },
  {
   "cell_type": "markdown",
   "id": "cab13ef2",
   "metadata": {},
   "source": [
    "## Algoritmos de Arbol de Decisión\n",
    "\n",
    "Modelan la toma de decisión basado en los valores reales de los atributos que tienen nuestros datos. Se utilizan sobre todo para clasificación de información, bifurcando y modelando los posibles caminos tomados y su probabilidad de ocurrencia para mejorar su precisión.\n",
    "\n",
    "### Árbol de decisión\n",
    "\n",
    "Uno de los algoritmos de aprendizaje supervisado más usado. El primer nodo se llama raíz, luego se descompone en ramas que se subdividen hasta llegar a las hojas que son los nodos finales. En particular, buscará la mejor ruta, balanceando la posibilidad de ocurrencia y su importancia en cada rama y hojas para clasificar un resultado."
   ]
  },
  {
   "cell_type": "code",
   "execution_count": 10,
   "id": "800307cb",
   "metadata": {},
   "outputs": [
    {
     "data": {
      "text/plain": [
       "DecisionTreeRegressor(random_state=1)"
      ]
     },
     "execution_count": 10,
     "metadata": {},
     "output_type": "execute_result"
    }
   ],
   "source": [
    "from sklearn.tree import DecisionTreeRegressor #arbol de decisión\n",
    "modelo_arbol = DecisionTreeRegressor(random_state=1) #ramdom_satate asegura que obtendrá los mismos resultados en cada ejecución\n",
    "modelo_arbol.fit(df_entrenamiento, df_entren_prediccion)"
   ]
  },
  {
   "cell_type": "code",
   "execution_count": 11,
   "id": "03fbfe8a",
   "metadata": {},
   "outputs": [
    {
     "data": {
      "text/plain": [
       "array([[2.000e+00, 1.000e+00],\n",
       "       [1.000e+01, 1.000e+00],\n",
       "       [2.300e+01, 1.000e+00],\n",
       "       ...,\n",
       "       [5.109e+03, 0.000e+00],\n",
       "       [5.103e+03, 0.000e+00],\n",
       "       [5.100e+03, 0.000e+00]])"
      ]
     },
     "execution_count": 11,
     "metadata": {},
     "output_type": "execute_result"
    }
   ],
   "source": [
    "predicciones_arbol = modelo_arbol.predict(df_test)\n",
    "predicciones_arbol"
   ]
  },
  {
   "cell_type": "code",
   "execution_count": 13,
   "id": "0d823e46",
   "metadata": {},
   "outputs": [
    {
     "name": "stdout",
     "output_type": "stream",
     "text": [
      "1.0\n"
     ]
    }
   ],
   "source": [
    "print(modelo_arbol.score(df_entrenamiento, df_entren_prediccion))"
   ]
  },
  {
   "cell_type": "code",
   "execution_count": 14,
   "id": "f27139d9",
   "metadata": {},
   "outputs": [
    {
     "name": "stdout",
     "output_type": "stream",
     "text": [
      "1.8484686603573104 1.0389560795501491\n"
     ]
    }
   ],
   "source": [
    "error_arbol_ms = np.sqrt(mean_squared_error(df_test_prediccion, predicciones_arbol)) \n",
    "error_arbol_ma = np.sqrt(mean_absolute_error(df_test_prediccion, predicciones_arbol)) \n",
    "print(error_arbol_ms, error_arbol_ma)"
   ]
  },
  {
   "cell_type": "markdown",
   "id": "e331af0f",
   "metadata": {},
   "source": [
    "Los árboles de decisión te dejan con una decisión difícil. Un árbol profundo con muchas hojas se sobreajustará porque cada predicción proviene de datos históricos de solo algunos datos en su hoja. Pero un árbol poco profundo con pocas hojas tendrá un desempeño deficiente porque no logra capturar tantas distinciones en los datos brutos.\n",
    "\n",
    "___\n",
    "### Random Forest"
   ]
  },
  {
   "cell_type": "code",
   "execution_count": 15,
   "id": "fe3165bd",
   "metadata": {},
   "outputs": [
    {
     "data": {
      "text/plain": [
       "RandomForestRegressor(random_state=1)"
      ]
     },
     "execution_count": 15,
     "metadata": {},
     "output_type": "execute_result"
    }
   ],
   "source": [
    "from sklearn.ensemble import RandomForestRegressor #ramdom forest\n",
    "modelo_forest = RandomForestRegressor(random_state=1)\n",
    "modelo_forest.fit(df_entrenamiento, df_entren_prediccion)"
   ]
  },
  {
   "cell_type": "code",
   "execution_count": 16,
   "id": "00e963b2",
   "metadata": {},
   "outputs": [
    {
     "data": {
      "text/plain": [
       "array([[4.57000e+00, 1.00000e+00],\n",
       "       [9.25000e+00, 1.00000e+00],\n",
       "       [2.02700e+01, 1.00000e+00],\n",
       "       ...,\n",
       "       [5.10416e+03, 0.00000e+00],\n",
       "       [5.10465e+03, 0.00000e+00],\n",
       "       [5.10349e+03, 0.00000e+00]])"
      ]
     },
     "execution_count": 16,
     "metadata": {},
     "output_type": "execute_result"
    }
   ],
   "source": [
    "predicciones_forest = modelo_forest.predict(df_test)\n",
    "predicciones_forest"
   ]
  },
  {
   "cell_type": "code",
   "execution_count": 18,
   "id": "42c39357",
   "metadata": {},
   "outputs": [
    {
     "name": "stdout",
     "output_type": "stream",
     "text": [
      "0.9998577360416948\n"
     ]
    }
   ],
   "source": [
    "print(modelo_forest.score(df_entrenamiento, df_entren_prediccion))"
   ]
  },
  {
   "cell_type": "code",
   "execution_count": 19,
   "id": "9b910c49",
   "metadata": {},
   "outputs": [
    {
     "name": "stdout",
     "output_type": "stream",
     "text": [
      "0.8291523698392562 0.6783455973844299\n"
     ]
    }
   ],
   "source": [
    "error_forest_ms = np.sqrt(mean_squared_error(df_test_prediccion, predicciones_forest)) \n",
    "error_forest_ma = np.sqrt(mean_absolute_error(df_test_prediccion, predicciones_forest)) \n",
    "print(error_forest_ms, error_forest_ma)"
   ]
  },
  {
   "cell_type": "markdown",
   "id": "a37bf2d0",
   "metadata": {},
   "source": [
    "## Algoritmos basados en Instancia\n",
    "\n",
    "### Nearest Neighbors \n",
    "\n",
    "La idea general de los métodos de Nearest Neighbors es encontrar un número predefinido de muestras de entrenamiento más cercanas a la que se está tratando de predecir y clasifica el punto de interés basado en la mayoría de datos que le rodean.\n",
    "\n",
    "El aprendizaje basado en vecinos supervisados viene en dos formas: clasificación para datos con etiquetas discretas y regresión para datos con etiquetas continuas.\n",
    "\n",
    "El número de muestras puede ser una constante definida por el usuario (KNeighborsClassifier) o variar según la densidad local de puntos (RadiusNeighborsClassifier). \n",
    " \n",
    "KNeighborsClassifier es la técnica más utilizada. La elección óptima del valor depende en gran medida de los datos, en general, un valor mayor suprime los efectos del ruido, pero hace que los límites de clasificación sean menos distintos. En los casos en los que los datos no se muestrean de manera uniforme, RadiusNeighborsClassifier puede ser una mejor opción.\n",
    "\n",
    "En resumen:\n",
    "\n",
    "- Calcula la distancia entre el item a clasificar y el resto.\n",
    "- Seleccionar los k elementos más cercanos.\n",
    "- Los de una clase que dominen será su clasificación final."
   ]
  },
  {
   "cell_type": "code",
   "execution_count": 20,
   "id": "d5969884",
   "metadata": {},
   "outputs": [
    {
     "data": {
      "text/plain": [
       "KNeighborsClassifier()"
      ]
     },
     "execution_count": 20,
     "metadata": {},
     "output_type": "execute_result"
    }
   ],
   "source": [
    "from sklearn.neighbors import KNeighborsClassifier\n",
    "from sklearn.neighbors import KNeighborsRegressor\n",
    "modelo_KN = KNeighborsClassifier(n_neighbors=5) #Creamos una instancia de KNeighborsClassifier\n",
    "#modelo_KN = KNeighborsRegressor(n_neighbors=5)\n",
    "modelo_KN.fit(df_entrenamiento, df_entren_prediccion)"
   ]
  },
  {
   "cell_type": "code",
   "execution_count": 24,
   "id": "370cb608",
   "metadata": {},
   "outputs": [],
   "source": [
    "#print(modelo_KN.score(df_test, df_test_prediccion))"
   ]
  },
  {
   "cell_type": "code",
   "execution_count": null,
   "id": "8279426b",
   "metadata": {},
   "outputs": [],
   "source": [
    "from sklearn.multioutput import MultiOutputClassifier\n",
    "modelo_KN = KNeighborsClassifier(n_neighbors=3)\n",
    "classifier = MultiOutputClassifier(modelo_KN, n_jobs=-1)\n",
    "classifier.fit(df_entrenamiento, df_entren_prediccion)\n",
    "print(classifier.score(df_entrenamiento,np.array(df_entren_prediccion)))"
   ]
  },
  {
   "cell_type": "code",
   "execution_count": null,
   "id": "a50f819d",
   "metadata": {},
   "outputs": [],
   "source": [
    "print(classifier.score(df_test,np.array(df_test_prediccion)))"
   ]
  },
  {
   "cell_type": "code",
   "execution_count": 22,
   "id": "3a0bd632",
   "metadata": {},
   "outputs": [
    {
     "data": {
      "text/plain": [
       "array([[  14,    1],\n",
       "       [   6,    1],\n",
       "       [   5,    1],\n",
       "       ...,\n",
       "       [5083,    0],\n",
       "       [5090,    0],\n",
       "       [5063,    0]])"
      ]
     },
     "execution_count": 22,
     "metadata": {},
     "output_type": "execute_result"
    }
   ],
   "source": [
    "predicciones_KN = modelo_KN.predict(df_test)\n",
    "predicciones_KN"
   ]
  }
 ],
 "metadata": {
  "kernelspec": {
   "display_name": "Python 3",
   "language": "python",
   "name": "python3"
  },
  "language_info": {
   "codemirror_mode": {
    "name": "ipython",
    "version": 3
   },
   "file_extension": ".py",
   "mimetype": "text/x-python",
   "name": "python",
   "nbconvert_exporter": "python",
   "pygments_lexer": "ipython3",
   "version": "3.8.8"
  }
 },
 "nbformat": 4,
 "nbformat_minor": 5
}
