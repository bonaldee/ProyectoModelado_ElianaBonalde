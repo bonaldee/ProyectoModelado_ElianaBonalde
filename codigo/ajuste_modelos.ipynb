{
 "cells": [
  {
   "cell_type": "markdown",
   "id": "a9225755",
   "metadata": {},
   "source": [
    "# Aprendiendo Machine Learning con Python \n",
    "\n",
    "## Scikit learn\n",
    "Biblioteca de Python donde todos los modelos y algoritmos del aprendizaje automático se han implementado con una arquitectura orientada a objetos. Cada modelo tiene su propia clase. \n",
    "\n",
    "Para empezar a importar los algoritmos, importe los módulos correspondiente, no la biblioteca en general, de lo contrario cuando llame algún método no funcionará.  \n",
    "\n",
    "`import from sklearn.linear_model import LinearRegression`\n",
    "\n",
    "Para crear un modelo, generamos un objeto de la clase correspondiente a este modelo. \n",
    "\n",
    "`modelo = LinearRegression()` --- object = modelo(parámetros)\n",
    "\n",
    "Para desarrollar cualquier modelo, se usan estos métodos, los cuales están en todas las clases. \n",
    "\n",
    "- `modelo = LinearRegresion()` Definir el modelo\n",
    "- `modelo.fit(X,y)` Ajustar \n",
    "- `modelo.score(X,y)` Evaluar \n",
    "- `modelo.predict(X)` Predecir\n",
    "___\n",
    "\n",
    "¿Cómo elegir el algoritmo a utilizar?\n",
    "\n",
    "Ésta podría ser la parte más dificil, encontrar el estimador adecuado para el trabajo. En el siguiente mapa encontrará buenos estimadores para cada aplicación.\n",
    "\n",
    "![Mapa de estimadores](https://github.com/bonaldee/ProyectoModelado_ElianaBonalde/tree/main/codigo/ml_map.png)\n",
    "\n",
    "[Fuente](https://scikit-learn.org/stable/tutorial/machine_learning_map/index.html)\n",
    "\n",
    "\n",
    "## Construyendo el modelo\n",
    "\n",
    "- Definir el tipo de modelo.\n",
    "- Ajustar, es decir, capturar patrones a partir de los datos proporcionados.\n",
    "- Predecir.\n",
    "- Evaluar qué tan prescisas son las predicciones del modelo.\n",
    "\n",
    "___\n",
    "\n",
    "\n",
    "En principio, importemos las bibliotecas y los DataFrames con las que vamos a trabajar.\n",
    "\n",
    "Recordemos el ejercicio: Predecir si es probable que un paciente sufra un accidente cerebrovascular en función de los parámetros de entrada como el sexo, la edad, diversas enfermedades y el tabaquismo. Cada fila de los datos proporciona información relevante sobre el paciente.\n",
    "\n",
    "Estos DataFrames fueron tratados en el Notebook [preparacion_datos](https://github.com/bonaldee/ProyectoModelado_ElianaBonalde/blob/main/preparacion_datos.ipynb)."
   ]
  },
  {
   "cell_type": "code",
   "execution_count": 110,
   "id": "0f3dfc59",
   "metadata": {},
   "outputs": [
    {
     "data": {
      "text/html": [
       "<div>\n",
       "<style scoped>\n",
       "    .dataframe tbody tr th:only-of-type {\n",
       "        vertical-align: middle;\n",
       "    }\n",
       "\n",
       "    .dataframe tbody tr th {\n",
       "        vertical-align: top;\n",
       "    }\n",
       "\n",
       "    .dataframe thead th {\n",
       "        text-align: right;\n",
       "    }\n",
       "</style>\n",
       "<table border=\"1\" class=\"dataframe\">\n",
       "  <thead>\n",
       "    <tr style=\"text-align: right;\">\n",
       "      <th></th>\n",
       "      <th>id</th>\n",
       "      <th>gender</th>\n",
       "      <th>age</th>\n",
       "      <th>hypertension</th>\n",
       "      <th>heart_disease</th>\n",
       "      <th>ever_married</th>\n",
       "      <th>work_type</th>\n",
       "      <th>Residence_type</th>\n",
       "      <th>avg_glucose_level</th>\n",
       "      <th>bmi</th>\n",
       "      <th>smoking_status</th>\n",
       "      <th>stroke</th>\n",
       "    </tr>\n",
       "  </thead>\n",
       "  <tbody>\n",
       "    <tr>\n",
       "      <th>0</th>\n",
       "      <td>9046</td>\n",
       "      <td>Male</td>\n",
       "      <td>67.0</td>\n",
       "      <td>0</td>\n",
       "      <td>1</td>\n",
       "      <td>Yes</td>\n",
       "      <td>Private</td>\n",
       "      <td>Urban</td>\n",
       "      <td>228.69</td>\n",
       "      <td>36.6</td>\n",
       "      <td>formerly smoked</td>\n",
       "      <td>1</td>\n",
       "    </tr>\n",
       "    <tr>\n",
       "      <th>1</th>\n",
       "      <td>51676</td>\n",
       "      <td>Female</td>\n",
       "      <td>61.0</td>\n",
       "      <td>0</td>\n",
       "      <td>0</td>\n",
       "      <td>Yes</td>\n",
       "      <td>Self-employed</td>\n",
       "      <td>Rural</td>\n",
       "      <td>202.21</td>\n",
       "      <td>NaN</td>\n",
       "      <td>never smoked</td>\n",
       "      <td>1</td>\n",
       "    </tr>\n",
       "    <tr>\n",
       "      <th>2</th>\n",
       "      <td>31112</td>\n",
       "      <td>Male</td>\n",
       "      <td>80.0</td>\n",
       "      <td>0</td>\n",
       "      <td>1</td>\n",
       "      <td>Yes</td>\n",
       "      <td>Private</td>\n",
       "      <td>Rural</td>\n",
       "      <td>105.92</td>\n",
       "      <td>32.5</td>\n",
       "      <td>never smoked</td>\n",
       "      <td>1</td>\n",
       "    </tr>\n",
       "    <tr>\n",
       "      <th>3</th>\n",
       "      <td>60182</td>\n",
       "      <td>Female</td>\n",
       "      <td>49.0</td>\n",
       "      <td>0</td>\n",
       "      <td>0</td>\n",
       "      <td>Yes</td>\n",
       "      <td>Private</td>\n",
       "      <td>Urban</td>\n",
       "      <td>171.23</td>\n",
       "      <td>34.4</td>\n",
       "      <td>smokes</td>\n",
       "      <td>1</td>\n",
       "    </tr>\n",
       "    <tr>\n",
       "      <th>4</th>\n",
       "      <td>1665</td>\n",
       "      <td>Female</td>\n",
       "      <td>79.0</td>\n",
       "      <td>1</td>\n",
       "      <td>0</td>\n",
       "      <td>Yes</td>\n",
       "      <td>Self-employed</td>\n",
       "      <td>Rural</td>\n",
       "      <td>174.12</td>\n",
       "      <td>24.0</td>\n",
       "      <td>never smoked</td>\n",
       "      <td>1</td>\n",
       "    </tr>\n",
       "    <tr>\n",
       "      <th>...</th>\n",
       "      <td>...</td>\n",
       "      <td>...</td>\n",
       "      <td>...</td>\n",
       "      <td>...</td>\n",
       "      <td>...</td>\n",
       "      <td>...</td>\n",
       "      <td>...</td>\n",
       "      <td>...</td>\n",
       "      <td>...</td>\n",
       "      <td>...</td>\n",
       "      <td>...</td>\n",
       "      <td>...</td>\n",
       "    </tr>\n",
       "    <tr>\n",
       "      <th>5105</th>\n",
       "      <td>18234</td>\n",
       "      <td>Female</td>\n",
       "      <td>80.0</td>\n",
       "      <td>1</td>\n",
       "      <td>0</td>\n",
       "      <td>Yes</td>\n",
       "      <td>Private</td>\n",
       "      <td>Urban</td>\n",
       "      <td>83.75</td>\n",
       "      <td>NaN</td>\n",
       "      <td>never smoked</td>\n",
       "      <td>0</td>\n",
       "    </tr>\n",
       "    <tr>\n",
       "      <th>5106</th>\n",
       "      <td>44873</td>\n",
       "      <td>Female</td>\n",
       "      <td>81.0</td>\n",
       "      <td>0</td>\n",
       "      <td>0</td>\n",
       "      <td>Yes</td>\n",
       "      <td>Self-employed</td>\n",
       "      <td>Urban</td>\n",
       "      <td>125.20</td>\n",
       "      <td>40.0</td>\n",
       "      <td>never smoked</td>\n",
       "      <td>0</td>\n",
       "    </tr>\n",
       "    <tr>\n",
       "      <th>5107</th>\n",
       "      <td>19723</td>\n",
       "      <td>Female</td>\n",
       "      <td>35.0</td>\n",
       "      <td>0</td>\n",
       "      <td>0</td>\n",
       "      <td>Yes</td>\n",
       "      <td>Self-employed</td>\n",
       "      <td>Rural</td>\n",
       "      <td>82.99</td>\n",
       "      <td>30.6</td>\n",
       "      <td>never smoked</td>\n",
       "      <td>0</td>\n",
       "    </tr>\n",
       "    <tr>\n",
       "      <th>5108</th>\n",
       "      <td>37544</td>\n",
       "      <td>Male</td>\n",
       "      <td>51.0</td>\n",
       "      <td>0</td>\n",
       "      <td>0</td>\n",
       "      <td>Yes</td>\n",
       "      <td>Private</td>\n",
       "      <td>Rural</td>\n",
       "      <td>166.29</td>\n",
       "      <td>25.6</td>\n",
       "      <td>formerly smoked</td>\n",
       "      <td>0</td>\n",
       "    </tr>\n",
       "    <tr>\n",
       "      <th>5109</th>\n",
       "      <td>44679</td>\n",
       "      <td>Female</td>\n",
       "      <td>44.0</td>\n",
       "      <td>0</td>\n",
       "      <td>0</td>\n",
       "      <td>Yes</td>\n",
       "      <td>Govt_job</td>\n",
       "      <td>Urban</td>\n",
       "      <td>85.28</td>\n",
       "      <td>26.2</td>\n",
       "      <td>Unknown</td>\n",
       "      <td>0</td>\n",
       "    </tr>\n",
       "  </tbody>\n",
       "</table>\n",
       "<p>5110 rows × 12 columns</p>\n",
       "</div>"
      ],
      "text/plain": [
       "         id  gender   age  hypertension  heart_disease ever_married  \\\n",
       "0      9046    Male  67.0             0              1          Yes   \n",
       "1     51676  Female  61.0             0              0          Yes   \n",
       "2     31112    Male  80.0             0              1          Yes   \n",
       "3     60182  Female  49.0             0              0          Yes   \n",
       "4      1665  Female  79.0             1              0          Yes   \n",
       "...     ...     ...   ...           ...            ...          ...   \n",
       "5105  18234  Female  80.0             1              0          Yes   \n",
       "5106  44873  Female  81.0             0              0          Yes   \n",
       "5107  19723  Female  35.0             0              0          Yes   \n",
       "5108  37544    Male  51.0             0              0          Yes   \n",
       "5109  44679  Female  44.0             0              0          Yes   \n",
       "\n",
       "          work_type Residence_type  avg_glucose_level   bmi   smoking_status  \\\n",
       "0           Private          Urban             228.69  36.6  formerly smoked   \n",
       "1     Self-employed          Rural             202.21   NaN     never smoked   \n",
       "2           Private          Rural             105.92  32.5     never smoked   \n",
       "3           Private          Urban             171.23  34.4           smokes   \n",
       "4     Self-employed          Rural             174.12  24.0     never smoked   \n",
       "...             ...            ...                ...   ...              ...   \n",
       "5105        Private          Urban              83.75   NaN     never smoked   \n",
       "5106  Self-employed          Urban             125.20  40.0     never smoked   \n",
       "5107  Self-employed          Rural              82.99  30.6     never smoked   \n",
       "5108        Private          Rural             166.29  25.6  formerly smoked   \n",
       "5109       Govt_job          Urban              85.28  26.2          Unknown   \n",
       "\n",
       "      stroke  \n",
       "0          1  \n",
       "1          1  \n",
       "2          1  \n",
       "3          1  \n",
       "4          1  \n",
       "...      ...  \n",
       "5105       0  \n",
       "5106       0  \n",
       "5107       0  \n",
       "5108       0  \n",
       "5109       0  \n",
       "\n",
       "[5110 rows x 12 columns]"
      ]
     },
     "execution_count": 110,
     "metadata": {},
     "output_type": "execute_result"
    }
   ],
   "source": [
    "import pandas as pd\n",
    "import numpy as np\n",
    "import matplotlib.pyplot as plt\n",
    "import seaborn as sns\n",
    "from matplotlib.colors import ListedColormap\n",
    "from sklearn.linear_model import LinearRegression # regresión lineal\n",
    "from sklearn.svm import SVR # regresión lineal\n",
    "from sklearn import neighbors\n",
    "from sklearn.tree import DecisionTreeRegressor #arbol de decisión\n",
    "from sklearn.ensemble import RandomForestRegressor #ramdom forest\n",
    "from sklearn.neighbors import KNeighborsClassifier\n",
    "from sklearn.metrics import mean_squared_error #validar\n",
    "from sklearn.metrics import mean_absolute_error #validar\n",
    "\n",
    "df_entrenamiento = pd.read_csv('../ProyectoModelado_ElianaBonalde/Cardio/df_entrenamiento.csv')\n",
    "df_entren_prediccion = pd.read_csv('../ProyectoModelado_ElianaBonalde/Cardio/df_entren_prediccion.csv')\n",
    "df_test = pd.read_csv('../ProyectoModelado_ElianaBonalde/Cardio/df_test.csv')\n",
    "df_test_prediccion = pd.read_csv('../ProyectoModelado_ElianaBonalde/Cardio/df_test_prediccion.csv')\n",
    "df = pd.read_csv('../ProyectoModelado_ElianaBonalde/Cardio/datos.csv')\n",
    "df"
   ]
  },
  {
   "cell_type": "markdown",
   "id": "a37bf2d0",
   "metadata": {},
   "source": [
    "Con este ejercicio, vamos a utilizar varios métodos, sin tomar en cuenta si es el apropiado o no. Simplemente queremos mostrar algunos de los métodos que hay. \n",
    "\n",
    "___\n",
    "\n",
    "\n",
    "### Nearest Neighbors \n",
    "\n",
    "La idea general de los métodos de nearest neighbors es encontrar un número predefinido de muestras de entrenamiento más cercanas en distancia al nuevo punto y predecir la etiqueta a partir de ellas.\n",
    "\n",
    "La clasificación de vecinos KNeighborsClassifier es la técnica más utilizada. La elección óptima del valor depende en gran medida de los datos: en general, un valor mayor suprime los efectos del ruido, pero hace que los límites de clasificación sean menos distintos.\n",
    "\n",
    "En los casos en los que los datos no se muestrean de manera uniforme, se debería usar la clasificación de vecinos basada en el radio RadiusNeighborsClassifier.\n",
    "\n"
   ]
  },
  {
   "cell_type": "code",
   "execution_count": 116,
   "id": "d5969884",
   "metadata": {},
   "outputs": [
    {
     "data": {
      "text/plain": [
       "KNeighborsClassifier()"
      ]
     },
     "execution_count": 116,
     "metadata": {},
     "output_type": "execute_result"
    }
   ],
   "source": [
    "modelo_KN = KNeighborsClassifier(n_neighbors=5)\n",
    "modelo_KN.fit(df_entrenamiento, df_entren_prediccion)"
   ]
  },
  {
   "cell_type": "code",
   "execution_count": 118,
   "id": "370cb608",
   "metadata": {},
   "outputs": [],
   "source": [
    "#modelo_KN.score(df_test, df_test_prediccion)"
   ]
  },
  {
   "cell_type": "code",
   "execution_count": 117,
   "id": "3a0bd632",
   "metadata": {},
   "outputs": [
    {
     "data": {
      "text/plain": [
       "array([[  14,    1],\n",
       "       [   6,    1],\n",
       "       [   5,    1],\n",
       "       ...,\n",
       "       [5083,    0],\n",
       "       [5090,    0],\n",
       "       [5063,    0]])"
      ]
     },
     "execution_count": 117,
     "metadata": {},
     "output_type": "execute_result"
    }
   ],
   "source": [
    "predicciones_KN = modelo_KN.predict(df_test)\n",
    "predicciones_KN"
   ]
  },
  {
   "cell_type": "markdown",
   "id": "1fae2a62",
   "metadata": {},
   "source": [
    "### Regresión lineal\n",
    "\n",
    "La regresión lineal es un algoritmo de aprendizaje supervisado, el cual busca obtener automáticamente una “recta” que se busca con la tendencia de predicción. Para hacerlo se mide el error con respecto a los puntos de entrada y el valor “Y” de salida real. El algoritmo deberá minimizar el coste de una función de error cuadrático y esos coeficientes corresponderán con la recta óptima.\n",
    "___\n",
    "\n",
    "El método `fit` se encarga de ajustar los parámetros de regresión lineal a los datos."
   ]
  },
  {
   "cell_type": "code",
   "execution_count": 44,
   "id": "f0dd9cc1",
   "metadata": {},
   "outputs": [
    {
     "data": {
      "text/plain": [
       "LinearRegression()"
      ]
     },
     "execution_count": 44,
     "metadata": {},
     "output_type": "execute_result"
    }
   ],
   "source": [
    "modelo_regre = LinearRegression() #no utiliza parámeros porque implementa el método de mínimos cuadrados\n",
    "modelo_regre.fit(df_entrenamiento, df_entren_prediccion)"
   ]
  },
  {
   "cell_type": "code",
   "execution_count": 105,
   "id": "42362ab3",
   "metadata": {},
   "outputs": [
    {
     "data": {
      "text/plain": [
       "0.588428063576591"
      ]
     },
     "execution_count": 105,
     "metadata": {},
     "output_type": "execute_result"
    }
   ],
   "source": [
    "#modelo_regre.score(df_entrenamiento, df_entren_prediccion)\n",
    "modelo_regre.score(df_test, df_test_prediccion)#coeficiente de determinación del método de \n",
    "#mínimos cuadrados "
   ]
  },
  {
   "cell_type": "code",
   "execution_count": 35,
   "id": "fc76ec72",
   "metadata": {},
   "outputs": [
    {
     "data": {
      "text/plain": [
       "array([[-6.30372143e-13,  2.50841016e-01],\n",
       "       [ 9.00000000e+00,  2.04943190e-01],\n",
       "       [ 2.00000000e+01,  2.32719196e-01],\n",
       "       ...,\n",
       "       [ 5.10400000e+03, -9.48291975e-02],\n",
       "       [ 5.10700000e+03, -1.09760188e-01],\n",
       "       [ 5.10800000e+03, -5.77458784e-02]])"
      ]
     },
     "execution_count": 35,
     "metadata": {},
     "output_type": "execute_result"
    }
   ],
   "source": [
    "predicciones_regre = modelo_regre.predict(df_test) #comportamiento\n",
    "predicciones_regre"
   ]
  },
  {
   "cell_type": "code",
   "execution_count": 36,
   "id": "1ed59ef9",
   "metadata": {},
   "outputs": [
    {
     "name": "stdout",
     "output_type": "stream",
     "text": [
      "0.13078731191877446 0.2244998813809523\n"
     ]
    }
   ],
   "source": [
    "error_regre_ms = np.sqrt(mean_squared_error(df_test_prediccion ,predicciones_regre)) \n",
    "error_regre_ma = np.sqrt(mean_absolute_error(df_test_prediccion ,predicciones_regre)) \n",
    "print(error_regre_ms, error_regre_ma)"
   ]
  },
  {
   "cell_type": "markdown",
   "id": "032beff0",
   "metadata": {},
   "source": [
    "### Árbol de decisión\n",
    "\n",
    "Definir un modelo de árbol de decisión y ajustarlo con las características y la variable de destino."
   ]
  },
  {
   "cell_type": "code",
   "execution_count": 37,
   "id": "b9a21b06",
   "metadata": {},
   "outputs": [
    {
     "data": {
      "text/plain": [
       "DecisionTreeRegressor(random_state=1)"
      ]
     },
     "execution_count": 37,
     "metadata": {},
     "output_type": "execute_result"
    }
   ],
   "source": [
    "modelo_arbol = DecisionTreeRegressor(random_state=1) #ramdom_satate asegura que obtendrá los mismos resultados en cada ejecución\n",
    "modelo_arbol.fit(df_entrenamiento, df_entren_prediccion)"
   ]
  },
  {
   "cell_type": "code",
   "execution_count": 46,
   "id": "5edce2c9",
   "metadata": {},
   "outputs": [
    {
     "data": {
      "text/plain": [
       "1.0"
      ]
     },
     "execution_count": 46,
     "metadata": {},
     "output_type": "execute_result"
    }
   ],
   "source": [
    "modelo_arbol.score(df_entrenamiento, df_entren_prediccion)"
   ]
  },
  {
   "cell_type": "code",
   "execution_count": 38,
   "id": "a5bcf69a",
   "metadata": {},
   "outputs": [
    {
     "data": {
      "text/plain": [
       "array([[2.000e+00, 1.000e+00],\n",
       "       [1.000e+01, 1.000e+00],\n",
       "       [2.300e+01, 1.000e+00],\n",
       "       ...,\n",
       "       [5.109e+03, 0.000e+00],\n",
       "       [5.103e+03, 0.000e+00],\n",
       "       [5.100e+03, 0.000e+00]])"
      ]
     },
     "execution_count": 38,
     "metadata": {},
     "output_type": "execute_result"
    }
   ],
   "source": [
    "predicciones_arbol = modelo_arbol.predict(df_test)\n",
    "predicciones_arbol"
   ]
  },
  {
   "cell_type": "code",
   "execution_count": 39,
   "id": "d35e9104",
   "metadata": {},
   "outputs": [
    {
     "name": "stdout",
     "output_type": "stream",
     "text": [
      "1.8484686603573104 1.0389560795501491\n"
     ]
    }
   ],
   "source": [
    "error_arbol_ms = np.sqrt(mean_squared_error(df_test_prediccion, predicciones_arbol)) \n",
    "error_arbol_ma = np.sqrt(mean_absolute_error(df_test_prediccion, predicciones_arbol)) \n",
    "print(error_arbol_ms, error_arbol_ma)"
   ]
  },
  {
   "cell_type": "markdown",
   "id": "f0b9205f",
   "metadata": {},
   "source": [
    "Los árboles de decisión te dejan con una decisión difícil. Un árbol profundo con muchas hojas se sobreajustará porque cada predicción proviene de datos históricos de solo algunos datos en su hoja. Pero un árbol poco profundo con pocas hojas tendrá un desempeño deficiente porque no logra capturar tantas distinciones en los datos brutos.\n",
    "\n",
    "___\n",
    "### Random Forest"
   ]
  },
  {
   "cell_type": "code",
   "execution_count": 40,
   "id": "f6bfc6e4",
   "metadata": {},
   "outputs": [
    {
     "data": {
      "text/plain": [
       "RandomForestRegressor(random_state=1)"
      ]
     },
     "execution_count": 40,
     "metadata": {},
     "output_type": "execute_result"
    }
   ],
   "source": [
    "modelo_forest = RandomForestRegressor(random_state=1)\n",
    "modelo_forest.fit(df_entrenamiento, df_entren_prediccion)"
   ]
  },
  {
   "cell_type": "code",
   "execution_count": 47,
   "id": "65e7a8bc",
   "metadata": {},
   "outputs": [
    {
     "data": {
      "text/plain": [
       "0.9998577360416948"
      ]
     },
     "execution_count": 47,
     "metadata": {},
     "output_type": "execute_result"
    }
   ],
   "source": [
    "modelo_forest.score(df_entrenamiento, df_entren_prediccion)  "
   ]
  },
  {
   "cell_type": "code",
   "execution_count": 41,
   "id": "bf3cbd55",
   "metadata": {},
   "outputs": [
    {
     "data": {
      "text/plain": [
       "array([[4.57000e+00, 1.00000e+00],\n",
       "       [9.25000e+00, 1.00000e+00],\n",
       "       [2.02700e+01, 1.00000e+00],\n",
       "       ...,\n",
       "       [5.10416e+03, 0.00000e+00],\n",
       "       [5.10465e+03, 0.00000e+00],\n",
       "       [5.10349e+03, 0.00000e+00]])"
      ]
     },
     "execution_count": 41,
     "metadata": {},
     "output_type": "execute_result"
    }
   ],
   "source": [
    "predicciones_forest = modelo_forest.predict(df_test)\n",
    "predicciones_forest"
   ]
  },
  {
   "cell_type": "code",
   "execution_count": 42,
   "id": "f9586a6c",
   "metadata": {},
   "outputs": [
    {
     "name": "stdout",
     "output_type": "stream",
     "text": [
      "0.8291523698392562 0.6783455973844299\n"
     ]
    }
   ],
   "source": [
    "error_forest_ms = np.sqrt(mean_squared_error(df_test_prediccion, predicciones_forest)) \n",
    "error_forest_ma = np.sqrt(mean_absolute_error(df_test_prediccion, predicciones_forest)) \n",
    "print(error_forest_ms, error_forest_ma)"
   ]
  },
  {
   "cell_type": "code",
   "execution_count": null,
   "id": "3716b55b",
   "metadata": {},
   "outputs": [],
   "source": []
  }
 ],
 "metadata": {
  "kernelspec": {
   "display_name": "Python 3",
   "language": "python",
   "name": "python3"
  },
  "language_info": {
   "codemirror_mode": {
    "name": "ipython",
    "version": 3
   },
   "file_extension": ".py",
   "mimetype": "text/x-python",
   "name": "python",
   "nbconvert_exporter": "python",
   "pygments_lexer": "ipython3",
   "version": "3.8.8"
  }
 },
 "nbformat": 4,
 "nbformat_minor": 5
}
